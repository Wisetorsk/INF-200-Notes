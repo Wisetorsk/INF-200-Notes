{
 "cells": [
  {
   "cell_type": "markdown",
   "metadata": {},
   "source": [
    "#INF200 Notes\n",
    "##Collection of lecture notes"
   ]
  },
  {
   "cell_type": "code",
   "execution_count": 2,
   "metadata": {
    "collapsed": false
   },
   "outputs": [],
   "source": [
    "import numpy as np\n",
    "import os, shelve, random, time"
   ]
  },
  {
   "cell_type": "markdown",
   "metadata": {
    "collapsed": true
   },
   "source": [
    "#Testing"
   ]
  },
  {
   "cell_type": "code",
   "execution_count": 3,
   "metadata": {
    "collapsed": false
   },
   "outputs": [],
   "source": [
    "%mkdir -p texttools"
   ]
  },
  {
   "cell_type": "code",
   "execution_count": 4,
   "metadata": {
    "collapsed": false
   },
   "outputs": [
    {
     "name": "stdout",
     "output_type": "stream",
     "text": [
      "Writing texttools/test_palindrome.py\n"
     ]
    }
   ],
   "source": [
    "%%writefile texttools/test_palindrome.py\n",
    "\n",
    "import nose.tools as nt\n",
    "\n",
    "import palindrome as p\n",
    "\n",
    "def test_empty():\n",
    "    assert p.is_palindrome(''), 'Empty string false negative'\n",
    "    \n",
    "def test_lowercase_palindromes():\n",
    "    nt.assert_true(p.is_palindrome('ana'), 'ana false negative')\n",
    "    nt.assert_true(p.is_palindrome('anna'), 'anna false negative')\n",
    "\n",
    "def test_lowercase_non_palindromes():\n",
    "    nt.assert_false(p.is_palindrome('per'), 'per false positive')\n",
    "    nt.assert_false(p.is_palindrome('kari'), 'kari false positive')\n",
    "        \n",
    "def test_uppercase_palindromes():\n",
    "    nt.assert_true(p.is_palindrome('ANA'), 'ANA false negative')\n",
    "    nt.assert_true(p.is_palindrome('ANNA'), 'ANNA false negative')\n",
    "\n",
    "def test_uppercase_non_palindromes():\n",
    "    nt.assert_false(p.is_palindrome('PER'), 'PER false positive')\n",
    "    nt.assert_false(p.is_palindrome('KARI'), 'KARI false positive')"
   ]
  },
  {
   "cell_type": "code",
   "execution_count": 6,
   "metadata": {
    "collapsed": false
   },
   "outputs": [
    {
     "ename": "NameError",
     "evalue": "name 'palindrome' is not defined",
     "output_type": "error",
     "traceback": [
      "\u001b[1;31m---------------------------------------------------------------------------\u001b[0m",
      "\u001b[1;31mNameError\u001b[0m                                 Traceback (most recent call last)",
      "\u001b[1;32m<ipython-input-6-cc59b6695485>\u001b[0m in \u001b[0;36m<module>\u001b[1;34m()\u001b[0m\n\u001b[1;32m----> 1\u001b[1;33m \u001b[0mpalindrome\u001b[0m\u001b[1;33m\u001b[0m\u001b[0m\n\u001b[0m",
      "\u001b[1;31mNameError\u001b[0m: name 'palindrome' is not defined"
     ]
    }
   ],
   "source": [
    "%%writefile texttools/palindrome.py\n",
    "\n",
    "def is_palindrome(text):\n",
    "    pass"
   ]
  },
  {
   "cell_type": "code",
   "execution_count": null,
   "metadata": {
    "collapsed": true
   },
   "outputs": [],
   "source": []
  }
 ],
 "metadata": {
  "kernelspec": {
   "display_name": "Python 2",
   "language": "python",
   "name": "python2"
  },
  "language_info": {
   "codemirror_mode": {
    "name": "ipython",
    "version": 2
   },
   "file_extension": ".py",
   "mimetype": "text/x-python",
   "name": "python",
   "nbconvert_exporter": "python",
   "pygments_lexer": "ipython2",
   "version": "2.7.10"
  }
 },
 "nbformat": 4,
 "nbformat_minor": 0
}
