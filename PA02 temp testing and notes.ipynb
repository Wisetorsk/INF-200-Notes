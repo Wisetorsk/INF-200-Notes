{
 "cells": [
  {
   "cell_type": "markdown",
   "metadata": {},
   "source": [
    "<h1><strong>Class-based chutes and ladders simualtion </strong> </h1>"
   ]
  },
  {
   "cell_type": "markdown",
   "metadata": {},
   "source": [
    "<h3>Import</h3>"
   ]
  },
  {
   "cell_type": "code",
   "execution_count": null,
   "metadata": {
    "collapsed": true
   },
   "outputs": [],
   "source": [
    "# -*- coding: utf-8 -*-\n",
    "\n",
    "\"\"\"\n",
    "Chutes & Ladders: A fully object-oriented simulation setup.\n",
    "\"\"\"\n",
    "\n",
    "import random"
   ]
  },
  {
   "cell_type": "markdown",
   "metadata": {},
   "source": [
    "<h3>Class \"Board\"</h3>"
   ]
  },
  {
   "cell_type": "code",
   "execution_count": null,
   "metadata": {
    "collapsed": true
   },
   "outputs": [],
   "source": [
    "class Board(object):\n",
    "    \"\"\"\n",
    "    Represents game board.\n",
    "    \"\"\"\n",
    "\n",
    "    def __init__(self, ladders=[(1, 40), (8, 10), (36, 52), (43, 62), (49, 79), (65, 82), (68, 85)],\n",
    "                 chutes=[(24, 5), (33, 3), (42, 30), (56, 37), (64, 27), (74, 12), (87, 70)],\n",
    "                 goal=90):\n",
    "        \"\"\"\n",
    "        :param ladders: list of (start, end) tuples representing ladders\n",
    "        :param chutes: list of (start, end) tuples representing chutes\n",
    "        :param goal: destination square\n",
    "        \"\"\"\n",
    "        self.ladders = ladders\n",
    "        self.chutes = chutes\n",
    "        self.goal = goal\n",
    "\n",
    "    def goal_reached(self, player):\n",
    "        \"\"\"\n",
    "        Returns True if player has reached goal.\n",
    "\n",
    "        :param player: Player instance\n",
    "        \"\"\"\n",
    "        if : # Maybe alter to use position instead?\n",
    "            return True\n",
    "        else:\n",
    "            return False\n",
    "\n",
    "    def position_adjustment(self, position):\n",
    "        \"\"\"\n",
    "        Return change to position due to chute or ladder.\n",
    "\n",
    "        If the player is not at the start of a chute/ladder, it returns 0.\n",
    "\n",
    "        :param position: Player position\n",
    "        :returns: number of fields player must move to get to correct position\n",
    "        \"\"\"\n",
    "        for ladder_chute in (self.chutes + self.ladders):\n",
    "            if position == ladder_chute[0]:\n",
    "                return ladder_chute[1] - position\n",
    "                break # Breaks the for-loop\n",
    "            else: # Will only execute if player position IS NOT at the start of a ladder og chute..\n",
    "                return 0\n",
    "    "
   ]
  },
  {
   "cell_type": "markdown",
   "metadata": {},
   "source": [
    "<h3>Class \"player\"</h3>"
   ]
  },
  {
   "cell_type": "code",
   "execution_count": null,
   "metadata": {
    "collapsed": true
   },
   "outputs": [],
   "source": [
    "class Player(object):\n",
    "    \"\"\"\n",
    "    Implements single player.\n",
    "    \"\"\"\n",
    "\n",
    "    def __init__(self, board):\n",
    "        \"\"\"\n",
    "        :param board: board on which player is living\n",
    "        \"\"\"\n",
    "        pass\n",
    "\n",
    "    def move(self):\n",
    "        \"\"\"\n",
    "        Moves player to new position.\n",
    "        \"\"\"\n",
    "        dice = random.randint(1, 6)\n",
    "        self.board(Board).position_adjustment(>POSITION<)\n",
    "        pass"
   ]
  },
  {
   "cell_type": "markdown",
   "metadata": {},
   "source": [
    "<h3>Class \"Resisilient player\"</h3>"
   ]
  },
  {
   "cell_type": "code",
   "execution_count": null,
   "metadata": {
    "collapsed": true
   },
   "outputs": [],
   "source": [
    "class ResilientPlayer(Player):\n",
    "    \"\"\"\n",
    "    Implements a player who makes extra efforts after sliding down.\n",
    "\n",
    "    At the step after sliding down a slide, this player moves\n",
    "    extra_steps squares more than the result of the die cast\n",
    "    at the next move.\n",
    "    \"\"\"\n",
    "\n",
    "    def __init__(self, board, extra_steps=1):\n",
    "        \"\"\"\n",
    "        :param extra_steps: number of extra steps on move after sliding down\n",
    "        \"\"\"\n",
    "\n",
    "        pass\n",
    "\n",
    "    def move(self):\n",
    "        pass"
   ]
  },
  {
   "cell_type": "markdown",
   "metadata": {},
   "source": [
    "<h3>Class \"Lazy player!</h3>"
   ]
  },
  {
   "cell_type": "code",
   "execution_count": null,
   "metadata": {
    "collapsed": true
   },
   "outputs": [],
   "source": [
    "class LazyPlayer(Player):\n",
    "    \"\"\"\n",
    "    Implements a player who makes a lesser effort after climbing up.\n",
    "\n",
    "    At the step after climbing a slide, this player moves\n",
    "    dropped_steps squares less than the result of the die cast\n",
    "    at the next move (but never backward).\n",
    "    \"\"\"\n",
    "\n",
    "    def __init__(self, board, dropped_steps=1):\n",
    "        \"\"\"\n",
    "        :param dropped_steps: number of steps dropped after climbing up\n",
    "        \"\"\"\n",
    "\n",
    "        pass\n",
    "\n",
    "    def move(self):\n",
    "        pass"
   ]
  },
  {
   "cell_type": "markdown",
   "metadata": {},
   "source": [
    "<h3>Class \"Simulation\"</h3>"
   ]
  },
  {
   "cell_type": "code",
   "execution_count": null,
   "metadata": {
    "collapsed": true
   },
   "outputs": [],
   "source": [
    "class Simulation(object):\n",
    "    \"\"\"\n",
    "    Implements a complete Chutes & Ladders simulation.\n",
    "    \"\"\"\n",
    "\n",
    "    def __init__(self, player_field, board=Board(Board), seed=1234567,\n",
    "                 randomize_players=False):\n",
    "        \"\"\"\n",
    "        :param player_field: list of player classes, one per player to use\n",
    "        :param board: Board instance (default: standard board)\n",
    "        :param seed: random generator seed\n",
    "        :param randomize_players: randomize player order at start of game\n",
    "        \"\"\"\n",
    "        pass\n",
    "\n",
    "    def single_game(self):\n",
    "        \"\"\"\n",
    "        Returns winner type and number of steps for single game.\n",
    "\n",
    "        :returns: (number_of_steps, winner_class) tuple\n",
    "        \"\"\"\n",
    "\n",
    "        pass\n",
    "\n",
    "    def run_simulation(self, num_games):\n",
    "        \"\"\"\n",
    "        Run a set of games, store results in Simulation.\n",
    "\n",
    "        If results exist from before, new data will be added to existing data.\n",
    "\n",
    "        :param num_games: number of games to play\n",
    "        \"\"\"\n",
    "\n",
    "        pass\n",
    "\n",
    "    def players_per_type(self):\n",
    "        \"\"\"\n",
    "        Returns a dict mapping player classes to number of players.\n",
    "        \"\"\"\n",
    "\n",
    "        pass\n",
    "\n",
    "    def winners_per_type(self):\n",
    "        \"\"\"\n",
    "        Returns dict showing number of winners for each type of player.\n",
    "        \"\"\"\n",
    "\n",
    "        pass\n",
    "\n",
    "    def durations_per_type(self):\n",
    "        \"\"\"\n",
    "        Returns dict mapping winner type to list of game durations for type.\n",
    "        \"\"\"\n",
    "\n",
    "        pass\n"
   ]
  },
  {
   "cell_type": "markdown",
   "metadata": {},
   "source": [
    "<h3>Main</h3>"
   ]
  },
  {
   "cell_type": "code",
   "execution_count": null,
   "metadata": {
    "collapsed": true
   },
   "outputs": [],
   "source": [
    "if __name__ == '__main__':\n",
    "    # The following code should work (and print something else than None)\n",
    "\n",
    "    print '**** First Simulation: Single player, standard board ****'\n",
    "    sim = Simulation([Player])\n",
    "    print sim.single_game()\n",
    "    sim.run_simulation(10)\n",
    "    print sim.players_per_type()\n",
    "    print sim.winners_per_type()\n",
    "    print sim.durations_per_type()\n",
    "\n",
    "    print '\\n**** Second Simulation: Four players, standard board ****'\n",
    "    sim = Simulation([Player, Player, LazyPlayer, ResilientPlayer])\n",
    "    print sim.single_game()\n",
    "    sim.run_simulation(10)\n",
    "    print sim.players_per_type()\n",
    "    print sim.winners_per_type()\n",
    "    print sim.durations_per_type()\n",
    "\n",
    "    print '\\n**** Third Simulation: Four players, small board ****'\n",
    "    my_board = Board(ladders=[(3, 10), (5, 8)], chutes=[(9, 2)], goal=20)\n",
    "    sim = Simulation([Player, Player, LazyPlayer, ResilientPlayer],\n",
    "                     board=my_board)\n",
    "    print sim.single_game()\n",
    "    sim.run_simulation(10)\n",
    "    print sim.players_per_type()\n",
    "    print sim.winners_per_type()\n",
    "    print sim.durations_per_type()"
   ]
  },
  {
   "cell_type": "markdown",
   "metadata": {},
   "source": [
    "<h2>Notes: </h2>"
   ]
  },
  {
   "cell_type": "markdown",
   "metadata": {
    "collapsed": true
   },
   "source": [
    "Husk å refferere til subclasses!!\n",
    "<ul>\n",
    "<p>Superclass(\"Subclass\", \"VARIABLES\" ) </p>\n",
    "</ul>\n",
    "<p>\n",
    "\n",
    "</p>\n",
    "<p><strong>Simulation</strong>\n",
    "<ul>\n",
    "    <li>Player</li>\n",
    "        <ul>\n",
    "            <li>=> Board</li>\n",
    "        </ul>\n",
    "    <li>Lazy player</li>\n",
    "        <ul>\n",
    "            <li>=> Board</li>\n",
    "        </ul>\n",
    "    <li>Resislient player</li>\n",
    "        <ul>\n",
    "            <li>=> Board</li>\n",
    "        </ul>\n",
    "</ul>\n",
    "</p>"
   ]
  },
  {
   "cell_type": "markdown",
   "metadata": {},
   "source": []
  }
 ],
 "metadata": {
  "kernelspec": {
   "display_name": "Python 2",
   "language": "python",
   "name": "python2"
  },
  "language_info": {
   "codemirror_mode": {
    "name": "ipython",
    "version": 2
   },
   "file_extension": ".py",
   "mimetype": "text/x-python",
   "name": "python",
   "nbconvert_exporter": "python",
   "pygments_lexer": "ipython2",
   "version": "2.7.9"
  }
 },
 "nbformat": 4,
 "nbformat_minor": 0
}
