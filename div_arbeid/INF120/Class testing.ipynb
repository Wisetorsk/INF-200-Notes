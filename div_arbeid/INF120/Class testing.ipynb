{
 "cells": [
  {
   "cell_type": "code",
   "execution_count": null,
   "metadata": {
    "collapsed": true
   },
   "outputs": [],
   "source": [
    "class Calculator:\n",
    "    def __init__(self, name):\n",
    "        self.name = name\n",
    "    \n",
    "    def register(self, ):\n",
    "        \n",
    "    def "
   ]
  },
  {
   "cell_type": "code",
   "execution_count": 2,
   "metadata": {
    "collapsed": false
   },
   "outputs": [
    {
     "name": "stdout",
     "output_type": "stream",
     "text": [
      "The function has a growth factor of 2.00 and an angle of 63.4 degrees with the horizontal\n"
     ]
    }
   ],
   "source": [
    "import turtle as trl\n",
    "import numpy as np\n",
    "import matplotlib.pyplot as plt\n",
    "\n",
    "def drawing(x, y):\n",
    "    m = float(y)/x\n",
    "    x_len = np.linspace(0,x,100)\n",
    "    y_len = x_len*m\n",
    "    angle = np.rad2deg(np.arctan(m))\n",
    "    length = np.sqrt(x**2+y**2)\n",
    "    print 'The function has a growth factor of %.2f and an angle of %.1f degrees with the horizontal' % (m, angle)\n",
    "    plt.plot(x_len, y_len, label = 'f(x)')\n",
    "    plt.grid()\n",
    "    plt.xlabel('x')\n",
    "    plt.ylabel('y')\n",
    "    plt.legend()\n",
    "    plt.show()\n",
    "\n",
    "drawing(25,50)"
   ]
  },
  {
   "cell_type": "code",
   "execution_count": 1,
   "metadata": {
    "collapsed": false
   },
   "outputs": [
    {
     "ename": "NameError",
     "evalue": "name 'trl' is not defined",
     "output_type": "error",
     "traceback": [
      "\u001b[1;31m---------------------------------------------------------------------------\u001b[0m",
      "\u001b[1;31mNameError\u001b[0m                                 Traceback (most recent call last)",
      "\u001b[1;32m<ipython-input-1-4a005cb66c03>\u001b[0m in \u001b[0;36m<module>\u001b[1;34m()\u001b[0m\n\u001b[1;32m----> 1\u001b[1;33m \u001b[0mtrl\u001b[0m\u001b[1;33m.\u001b[0m\u001b[0mforward\u001b[0m\u001b[1;33m(\u001b[0m\u001b[0mx\u001b[0m\u001b[1;33m)\u001b[0m\u001b[1;33m\u001b[0m\u001b[0m\n\u001b[0m\u001b[0;32m      2\u001b[0m \u001b[0mtrl\u001b[0m\u001b[1;33m.\u001b[0m\u001b[0mleft\u001b[0m\u001b[1;33m(\u001b[0m\u001b[1;36m180\u001b[0m\u001b[1;33m)\u001b[0m\u001b[1;33m\u001b[0m\u001b[0m\n\u001b[0;32m      3\u001b[0m \u001b[0mtrl\u001b[0m\u001b[1;33m.\u001b[0m\u001b[0mforward\u001b[0m\u001b[1;33m(\u001b[0m\u001b[0mx\u001b[0m\u001b[1;33m)\u001b[0m\u001b[1;33m\u001b[0m\u001b[0m\n\u001b[0;32m      4\u001b[0m \u001b[0mtrl\u001b[0m\u001b[1;33m.\u001b[0m\u001b[0mright\u001b[0m\u001b[1;33m(\u001b[0m\u001b[1;36m90\u001b[0m\u001b[1;33m)\u001b[0m\u001b[1;33m\u001b[0m\u001b[0m\n\u001b[0;32m      5\u001b[0m \u001b[0mtrl\u001b[0m\u001b[1;33m.\u001b[0m\u001b[0mforward\u001b[0m\u001b[1;33m(\u001b[0m\u001b[0my\u001b[0m\u001b[1;33m)\u001b[0m\u001b[1;33m\u001b[0m\u001b[0m\n",
      "\u001b[1;31mNameError\u001b[0m: name 'trl' is not defined"
     ]
    }
   ],
   "source": [
    "    trl.forward(x)\n",
    "    trl.left(180)\n",
    "    trl.forward(x)\n",
    "    trl.right(90)\n",
    "    trl.forward(y)\n",
    "    trl.right(180)\n",
    "    trl.forward(y)\n",
    "    trl.left(90)\n",
    "    trl.left(angle)\n",
    "    trl.forward(length)"
   ]
  },
  {
   "cell_type": "code",
   "execution_count": null,
   "metadata": {
    "collapsed": true
   },
   "outputs": [],
   "source": [
    "import turtle as trl\n",
    "import numpy as np\n",
    "import matplotlib.pyplot as plt\n",
    "\n",
    "def drawing(x, y):\n",
    "    m = float(x)/y\n",
    "    x_len = np.linspace(0,x,100)\n",
    "    y_len = x_len*m\n",
    "\n",
    "    angle = np.rad2deg(np.arctan(m))\n",
    "\n",
    "    length = np.sqrt(x**2+y**2)\n",
    "    return angle, length, m\n",
    "\n",
    "drawing(25,50)"
   ]
  },
  {
   "cell_type": "code",
   "execution_count": 4,
   "metadata": {
    "collapsed": false
   },
   "outputs": [
    {
     "name": "stdout",
     "output_type": "stream",
     "text": [
      "Expression involving x: 2*sin(x) + cos(x)\n",
      "Number of x values: 200\n",
      "Starting value: -10\n",
      "End value: 10\n"
     ]
    }
   ],
   "source": [
    "def remove_spaces(str):\n",
    "    out = ''\n",
    "    for a in str.split(' '):\n",
    "        out += a\n",
    "    return out\n",
    "\n",
    "def plotting_function():\n",
    "    \"\"\"This is a function used to plot mathematical functions\"\"\"\n",
    "    from math import sin, sqrt, exp, cos, atan, asin, acos, tan, pi\n",
    "    from numpy import linspace\n",
    "    import matplotlib\n",
    "    import pylab\n",
    "    \n",
    "    while True:\n",
    "        try:\n",
    "            while True:\n",
    "                expression = remove_spaces(raw_input('Expression involving x: '))\n",
    "                if len(expression) == 0:\n",
    "                    print '!Input Error!\\nPlease enter a valid expression!\\n'\n",
    "                else:\n",
    "                    if 'x' not in expression:\n",
    "                        print '\"x\" is not present in expression!\\n'\n",
    "                    else:\n",
    "                        break\n",
    "                        \n",
    "            exp_print = 'F(x) = '+ expression\n",
    "            \n",
    "            if 'sqrt(x)' in expression:\n",
    "                print '\\n\"SQRT(x)\" PRESENT IN EXPRESSION!\\nUse caution to ensure that x is not negative!\\n'\n",
    "                \n",
    "                while True:\n",
    "                    try:\n",
    "                        n = int(raw_input('Number of x values: '))\n",
    "                        break\n",
    "                    except ValueError:\n",
    "                        print 'Input error!'\n",
    "                    except SyntaxError:\n",
    "                        print 'Input error!'\n",
    "                        \n",
    "                while True:\n",
    "                    try:\n",
    "                        start = float(raw_input('Starting value: '))\n",
    "                        if start < 0:\n",
    "                            print 'Error, current start value is negative and will cause math error!\\n'\n",
    "                        else:\n",
    "                            break\n",
    "                    except SyntaxError:\n",
    "                        print 'Input error!'\n",
    "                    except ValueError:\n",
    "                        print 'Input error!'\n",
    "                        \n",
    "                while True:\n",
    "                    try:\n",
    "                        end = float(raw_input('End value: '))\n",
    "                        if end < 0:\n",
    "                            print 'Error, current end value is negative and will cause math error!\\n'\n",
    "                        else:\n",
    "                            break\n",
    "                    except SyntaxError:\n",
    "                        print 'Input error!'\n",
    "                    except ValueError:\n",
    "                        print 'Input error!'\n",
    "                        \n",
    "                a = linspace(start, end, n)\n",
    "                y = [eval(expression) for x in a]\n",
    "                break\n",
    "                \n",
    "            elif 'sqrt(' in expression:\n",
    "                print '\\n\"SQRT(\"n\"/\"function\")\" PRESENT IN EQUATION!\\nPlease ensure that n is nonnegative!'\n",
    "                n = input('Number of x values: ')\n",
    "                start = input('Starting value: ')\n",
    "                end = input('End value: ')\n",
    "                a = linspace(start, end, n)\n",
    "                y = [eval(expression) for x in a]\n",
    "                break\n",
    "                \n",
    "            else:\n",
    "                n = input('Number of x values: ')\n",
    "                start = input('Starting value: ')\n",
    "                end = input('End value: ')\n",
    "                a = linspace(start, end, n)\n",
    "                y = [eval(expression) for x in a]\n",
    "                break\n",
    "                \n",
    "        except ValueError:\n",
    "            print 'VALUE ERROR: Possible math domain error in expression?\\n'\n",
    "            \n",
    "            \n",
    "    pylab.plot(a,y, label = 'F(x)')\n",
    "    pylab.xlabel('x')\n",
    "    pylab.ylabel('y')\n",
    "    pylab.xlim(start, end)\n",
    "    pylab.grid()\n",
    "    pylab.title(exp_print)\n",
    "    pylab.legend()\n",
    "    pylab.show()\n",
    "    \n",
    "plotting_function()\n"
   ]
  },
  {
   "cell_type": "code",
   "execution_count": 3,
   "metadata": {
    "collapsed": false
   },
   "outputs": [
    {
     "data": {
      "text/plain": [
       "'Heidetteerentest'"
      ]
     },
     "execution_count": 3,
     "metadata": {},
     "output_type": "execute_result"
    }
   ],
   "source": [
    "def remove_spaces(str):\n",
    "    out = ''\n",
    "    for a in str.split(' '):\n",
    "        out += a\n",
    "    return out\n",
    "\n",
    "remove_spaces('Hei dette er en test')\n"
   ]
  },
  {
   "cell_type": "code",
   "execution_count": null,
   "metadata": {
    "collapsed": true
   },
   "outputs": [],
   "source": []
  }
 ],
 "metadata": {
  "kernelspec": {
   "display_name": "Python 2",
   "language": "python",
   "name": "python2"
  },
  "language_info": {
   "codemirror_mode": {
    "name": "ipython",
    "version": 2
   },
   "file_extension": ".py",
   "mimetype": "text/x-python",
   "name": "python",
   "nbconvert_exporter": "python",
   "pygments_lexer": "ipython2",
   "version": "2.7.9"
  }
 },
 "nbformat": 4,
 "nbformat_minor": 0
}
