{
 "cells": [
  {
   "cell_type": "markdown",
   "metadata": {},
   "source": [
    "##Accounts and banking"
   ]
  },
  {
   "cell_type": "markdown",
   "metadata": {},
   "source": [
    "Dette er en mere avansert versjon av \"Banking.py\"-appen lagd tidligere.\n",
    "v0.1                12/06/2015\n",
    "\n",
    "    Skrevet av: Marius Skaug Kristiansen"
   ]
  },
  {
   "cell_type": "markdown",
   "metadata": {},
   "source": [
    "#Overview"
   ]
  },
  {
   "cell_type": "markdown",
   "metadata": {},
   "source": [
    "Basert på klasser og bruker databaser til å lagre data for brukere.\n",
    "\n",
    "- Login med bruker og PIN. (lagrer i databaser)\n"
   ]
  },
  {
   "cell_type": "markdown",
   "metadata": {},
   "source": [
    "#Funksjoner\n",
    "- Registrer bruker\n",
    "- Slett bruker\n",
    "- Vis bruker ID/info\n",
    "- Saldo\n",
    "- Uttak\n",
    "- Innskudd\n",
    "- Lån/Kreditt\n",
    "- Kontohistorie\n",
    "- Renter\n",
    "- En \"Pen print\" -funksjon som gir tilbake en \"kvittering\"\n",
    "- \"Admin\" funksjoner: (Krever superuser login!)\n",
    "    - Krever separat login!!!!!!!\n",
    "    - \"Overview\" som viser alle brukernavn og kundenr\n",
    "    - \"Edit\"-funksjon som kan endre brukernavn, balanser og kontonr. "
   ]
  },
  {
   "cell_type": "markdown",
   "metadata": {},
   "source": [
    "#Main import!\n",
    "Her importeres all moduler som skal brukes"
   ]
  },
  {
   "cell_type": "code",
   "execution_count": 2,
   "metadata": {
    "collapsed": true
   },
   "outputs": [],
   "source": [
    "import sys, shelve\n",
    "import numpy\n",
    "import os\n",
    "import random as rng\n",
    "import time"
   ]
  },
  {
   "cell_type": "markdown",
   "metadata": {},
   "source": [
    "#Initsialisering"
   ]
  },
  {
   "cell_type": "code",
   "execution_count": 5,
   "metadata": {
    "collapsed": false
   },
   "outputs": [],
   "source": [
    "class Banking:\n",
    "    def __init__(self):\n",
    "        Users = shleve.open('Users.dat')\n",
    "        if self.number is None:\n",
    "            self.number = 00000000\n",
    "        pass"
   ]
  },
  {
   "cell_type": "markdown",
   "metadata": {},
   "source": [
    "#Registrer Bruker\n",
    "- Skal ta inn brukernavn (helt navn med fornavn og etternavn separert!)\n",
    "- Generer ett 8-siffer langt kundenr! (starter på 00000001)\n",
    "- Generer et 12-siffer langt kontonr (randint(10E12, 10E13 - 1)) Viktig å sjekke at det ikke blir laget duplikater ved å sjekke mot database!\n",
    "- Registrerer PIN (\"Dobbelt\" input for godkjenning!(LAGRER KUN EN \"HASH\" AV PASSORDET))\n",
    "- Registrerer Adresse og Epostadresse\n",
    "\n",
    "All Info lagres i nested dictionarys, hvor superlevel er: Database = {User_xx: {Userinfo:{Subdict 1}, Account_info:{Subdict 2} } }"
   ]
  },
  {
   "cell_type": "code",
   "execution_count": null,
   "metadata": {
    "collapsed": true
   },
   "outputs": [],
   "source": [
    "def Register_User(self):\n",
    "    # BRUK \"IF xxxx is NONE:\n",
    "    acc_no = self.number + 1\n",
    "    os.system('cls')\n",
    "    print \"Please enter your: \\n\"\n",
    "    self.surname = raw_input(\"First Name: \")\n",
    "    os.system('cls')\n",
    "    print \"Please enter your: \\n\"\n",
    "    self.lastname = raw_input(\"Last Name: \")\n",
    "    os.system('cls')\n",
    "    print \"Please enter your: \\n\"\n",
    "    self.addrL_1 = raw_input(\"Adress: \")\n",
    "    os.system('cls')\n",
    "    print \"Please enter your: \\n\"\n",
    "    self.area = raw_input(\"ZIP code: \")\n",
    "    os.system('cls')\n",
    "    print \"Please enter your: \\n\"\n",
    "    self.mail = raw_input(\"Email adress: \")\n",
    "    \n",
    "    \n",
    "    pass"
   ]
  },
  {
   "cell_type": "markdown",
   "metadata": {},
   "source": [
    "#Slett Bruker\n",
    "- Admin-funksjon!\n",
    "- Krever godkjenning og euthentikering"
   ]
  },
  {
   "cell_type": "code",
   "execution_count": null,
   "metadata": {
    "collapsed": false
   },
   "outputs": [],
   "source": []
  },
  {
   "cell_type": "markdown",
   "metadata": {},
   "source": [
    "#Vis Bruker ID\n",
    "- Printfunksjon som gir tilbake Brukerinfo i from av:\n",
    "    - Navn\n",
    "    - Kundenr\n",
    "    - Kontonummer\n",
    "    - Adresse\n",
    "    - Epost?"
   ]
  },
  {
   "cell_type": "code",
   "execution_count": null,
   "metadata": {
    "collapsed": true
   },
   "outputs": [],
   "source": []
  },
  {
   "cell_type": "markdown",
   "metadata": {},
   "source": [
    "#Saldo\n",
    "- Gir tilbake saldo på kvittering"
   ]
  },
  {
   "cell_type": "code",
   "execution_count": null,
   "metadata": {
    "collapsed": true
   },
   "outputs": [],
   "source": []
  },
  {
   "cell_type": "markdown",
   "metadata": {},
   "source": [
    "#Uttak"
   ]
  },
  {
   "cell_type": "code",
   "execution_count": null,
   "metadata": {
    "collapsed": true
   },
   "outputs": [],
   "source": []
  },
  {
   "cell_type": "markdown",
   "metadata": {},
   "source": [
    "#Innskudd"
   ]
  },
  {
   "cell_type": "code",
   "execution_count": null,
   "metadata": {
    "collapsed": true
   },
   "outputs": [],
   "source": []
  },
  {
   "cell_type": "markdown",
   "metadata": {},
   "source": [
    "#Lån/Kreditt"
   ]
  },
  {
   "cell_type": "code",
   "execution_count": null,
   "metadata": {
    "collapsed": true
   },
   "outputs": [],
   "source": []
  },
  {
   "cell_type": "markdown",
   "metadata": {},
   "source": [
    "#Kontohistorie"
   ]
  },
  {
   "cell_type": "code",
   "execution_count": null,
   "metadata": {
    "collapsed": true
   },
   "outputs": [],
   "source": []
  },
  {
   "cell_type": "markdown",
   "metadata": {},
   "source": [
    "#Renter"
   ]
  },
  {
   "cell_type": "code",
   "execution_count": null,
   "metadata": {
    "collapsed": true
   },
   "outputs": [],
   "source": []
  },
  {
   "cell_type": "markdown",
   "metadata": {},
   "source": [
    "# Print -funksjon"
   ]
  },
  {
   "cell_type": "code",
   "execution_count": null,
   "metadata": {
    "collapsed": true
   },
   "outputs": [],
   "source": [
    "def printout(self):\n",
    "    \n",
    "    pass"
   ]
  },
  {
   "cell_type": "markdown",
   "metadata": {},
   "source": [
    "#HELP"
   ]
  },
  {
   "cell_type": "code",
   "execution_count": null,
   "metadata": {
    "collapsed": true
   },
   "outputs": [],
   "source": [
    "def print_help():\n",
    "    print 'Available commands:'\n",
    "    print '...'\n",
    "    pass"
   ]
  },
  {
   "cell_type": "markdown",
   "metadata": {},
   "source": [
    "#Enter Command"
   ]
  },
  {
   "cell_type": "code",
   "execution_count": 6,
   "metadata": {
    "collapsed": true
   },
   "outputs": [],
   "source": [
    "def enter_command(self):\n",
    "    cmd = raw_input(\"Enter command (? for help): \")\n",
    "    cmd = cmd.strip().lower()\n",
    "    return cmd"
   ]
  },
  {
   "cell_type": "markdown",
   "metadata": {},
   "source": [
    "#Main"
   ]
  },
  {
   "cell_type": "code",
   "execution_count": null,
   "metadata": {
    "collapsed": true
   },
   "outputs": [],
   "source": [
    "def main(self):\n",
    "    self.Users = shleve.open('Users.dat')\n",
    "    try:\n",
    "        while True:\n",
    "            cmd = enter_command()\n",
    "    finally:\n",
    "        self.Users.close()"
   ]
  },
  {
   "cell_type": "markdown",
   "metadata": {},
   "source": [
    "#RUN!"
   ]
  },
  {
   "cell_type": "code",
   "execution_count": null,
   "metadata": {
    "collapsed": true
   },
   "outputs": [],
   "source": [
    "if __name__ == '__main__':\n",
    "    "
   ]
  }
 ],
 "metadata": {
  "kernelspec": {
   "display_name": "Python 2",
   "language": "python",
   "name": "python2"
  },
  "language_info": {
   "codemirror_mode": {
    "name": "ipython",
    "version": 2
   },
   "file_extension": ".py",
   "mimetype": "text/x-python",
   "name": "python",
   "nbconvert_exporter": "python",
   "pygments_lexer": "ipython2",
   "version": "2.7.9"
  }
 },
 "nbformat": 4,
 "nbformat_minor": 0
}
