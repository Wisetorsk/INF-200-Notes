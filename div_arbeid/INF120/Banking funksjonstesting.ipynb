{
 "cells": [
  {
   "cell_type": "markdown",
   "metadata": {},
   "source": [
    "#User dictionary"
   ]
  },
  {
   "cell_type": "code",
   "execution_count": 4,
   "metadata": {
    "collapsed": false
   },
   "outputs": [
    {
     "name": "stdout",
     "output_type": "stream",
     "text": [
      "ID number: 123456789\n"
     ]
    }
   ],
   "source": [
    "Users = {}\n",
    "#Generates an \"Empty\" entry for the current user ID number\n",
    "Users[raw_input('ID number: ')] = {'ID':{'Name':None, 'Address':None, 'Email':None}, 'DATA':{'Balance':None, 'History':None}}"
   ]
  },
  {
   "cell_type": "code",
   "execution_count": 11,
   "metadata": {
    "collapsed": false
   },
   "outputs": [
    {
     "data": {
      "text/plain": [
       "({'1': {'DATA': {'Balance': None, 'History': None},\n",
       "   'ID': {'Address': None, 'Email': None, 'Name': None}}},\n",
       " 0)"
      ]
     },
     "execution_count": 11,
     "metadata": {},
     "output_type": "execute_result"
    }
   ],
   "source": [
    "Users"
   ]
  },
  {
   "cell_type": "code",
   "execution_count": 6,
   "metadata": {
    "collapsed": false
   },
   "outputs": [
    {
     "data": {
      "text/plain": [
       "{'Balance': None, 'History': None}"
      ]
     },
     "execution_count": 6,
     "metadata": {},
     "output_type": "execute_result"
    }
   ],
   "source": [
    "Users['123456789']['DATA']"
   ]
  },
  {
   "cell_type": "code",
   "execution_count": 7,
   "metadata": {
    "collapsed": false
   },
   "outputs": [
    {
     "name": "stdout",
     "output_type": "stream",
     "text": [
      "Starting balance: 2000\n"
     ]
    }
   ],
   "source": [
    "Users['123456789']['ID']['Balance'] = float(raw_input('Starting balance: '))"
   ]
  },
  {
   "cell_type": "code",
   "execution_count": 8,
   "metadata": {
    "collapsed": false
   },
   "outputs": [
    {
     "data": {
      "text/plain": [
       "{'123456789': {'DATA': {'Balance': None, 'History': None},\n",
       "  'ID': {'Address': None, 'Balance': 2000.0, 'Email': None, 'Name': None}}}"
      ]
     },
     "execution_count": 8,
     "metadata": {},
     "output_type": "execute_result"
    }
   ],
   "source": [
    "Users"
   ]
  },
  {
   "cell_type": "markdown",
   "metadata": {},
   "source": [
    "#Test"
   ]
  },
  {
   "cell_type": "code",
   "execution_count": 23,
   "metadata": {
    "collapsed": false
   },
   "outputs": [
    {
     "name": "stdout",
     "output_type": "stream",
     "text": [
      "Enter your full name (First, last name): Marius Kristiansen\n",
      "Enter your address: Bekkefaret 9\n",
      "Enter your email address(if none, leave empty: \n"
     ]
    }
   ],
   "source": [
    "import os\n",
    "import sys, shelve\n",
    "start_number = 0\n",
    "Users = {}\n",
    "def register_user(start_number):\n",
    "    start_number += 1\n",
    "    id_number = '0' * (8 - len(str(start_number))) + str(start_number)\n",
    "    Users = enter_empty(id_number)\n",
    "    try:\n",
    "        Users[id_number]['ID']['Name'] = raw_input('Enter your full name (First, last name): ')\n",
    "        os.system('cls')\n",
    "        Users[id_number]['ID']['Address'] = raw_input('Enter your address: ')\n",
    "        os.system('cls')\n",
    "        Users[id_number]['ID']['ZIP'] = raw_input('Enter your area code: ')\n",
    "        os.system('cls')\n",
    "        Users[id_number]['ID']['Email'] = raw_input('Enter your email address(if none, leave empty: ')\n",
    "        if len(Users[id_number]['ID']['Email']) < 2:\n",
    "            Users[id_number]['ID']['Email'] = None\n",
    "        os.system('cls')\n",
    "        Users[id_number]['DATA']['History'].append({'First_reg':(datestamp(), timestamp())})\n",
    "    except ValueError:\n",
    "        print 'ERROR'\n",
    "        \n",
    "    return Users, start_number\n",
    "    \n",
    "def enter_empty(no):\n",
    "    Users[no] = {'ID':{'Name':None, 'Address':None, 'ZIP':None, 'Email':None}, 'DATA':{'Balance':0.00, 'History':[]}}\n",
    "    return Users"
   ]
  },
  {
   "cell_type": "code",
   "execution_count": 24,
   "metadata": {
    "collapsed": false
   },
   "outputs": [
    {
     "data": {
      "text/plain": [
       "{'00000001': {'DATA': {'Balance': 0.0,\n",
       "   'History': [{'First_reg': ('13/06/2015', '11:54:57')}]},\n",
       "  'ID': {'Address': 'Bekkefaret 9',\n",
       "   'Email': None,\n",
       "   'Name': 'Marius Kristiansen'}}}"
      ]
     },
     "execution_count": 24,
     "metadata": {},
     "output_type": "execute_result"
    }
   ],
   "source": [
    "Users"
   ]
  },
  {
   "cell_type": "code",
   "execution_count": 13,
   "metadata": {
    "collapsed": false
   },
   "outputs": [
    {
     "name": "stdout",
     "output_type": "stream",
     "text": [
      "time.struct_time(tm_year=2015, tm_mon=6, tm_mday=13, tm_hour=11, tm_min=37, tm_sec=10, tm_wday=5, tm_yday=164, tm_isdst=1)\n"
     ]
    }
   ],
   "source": [
    "print time.localtime()"
   ]
  },
  {
   "cell_type": "markdown",
   "metadata": {},
   "source": [
    "#Timestamp"
   ]
  },
  {
   "cell_type": "code",
   "execution_count": 3,
   "metadata": {
    "collapsed": false
   },
   "outputs": [],
   "source": [
    "def timestamp():\n",
    "    import time\n",
    "    hour = str(time.localtime()[3])\n",
    "    if len(hour) == 1:\n",
    "        hour = '0' + hour\n",
    "    minute = str(time.localtime()[4])\n",
    "    if len(minute) == 1:\n",
    "        minute = '0' + minute\n",
    "    second = str(time.localtime()[5])\n",
    "    if len(second) == 1:\n",
    "        second = '0'+ second\n",
    "    timestamp = hour +':'+ minute +':'+ second\n",
    "    return timestamp\n"
   ]
  },
  {
   "cell_type": "markdown",
   "metadata": {
    "collapsed": true
   },
   "source": [
    "#Datestamp"
   ]
  },
  {
   "cell_type": "code",
   "execution_count": 2,
   "metadata": {
    "collapsed": false
   },
   "outputs": [],
   "source": [
    "def datestamp():\n",
    "    import time\n",
    "    day = str(time.localtime()[2])\n",
    "    if len(day) == 1:\n",
    "        day = '0' + day\n",
    "    month = str(time.localtime()[1])\n",
    "    if len(month) == 1:\n",
    "        month = '0' + month\n",
    "    year = str(time.localtime()[0])\n",
    "    return (day + '/' + month + '/' + year)\n"
   ]
  },
  {
   "cell_type": "markdown",
   "metadata": {},
   "source": [
    "#Deposit/withdraw functions"
   ]
  },
  {
   "cell_type": "code",
   "execution_count": 10,
   "metadata": {
    "collapsed": false
   },
   "outputs": [],
   "source": [
    "def deposit(Users, id_no):\n",
    "    while True:\n",
    "        try:\n",
    "            amount = float(raw_input('Please enter amount to deposit: '))\n",
    "            if len(str(amount)) == 0:\n",
    "                print 'Invalid amount'\n",
    "            else:\n",
    "                Users[id_no]['DATA']['Balance'] += amount\n",
    "                Users[id_no]['DATA']['History'].append({'Deposit': amount, 'Date/time':(datestamp(),timestamp())})\n",
    "                break\n",
    "        except ValueError:\n",
    "            print 'Entry error'\n",
    "    return Users\n",
    "\n",
    "\n",
    "def withdraw(Users, id_no):\n",
    "    while True:\n",
    "        try:\n",
    "            amount = float(raw_input('Please enter amount to withdraw: '))\n",
    "            if len(str(amount)) == 0:\n",
    "                print 'Invalid amount'\n",
    "            else:\n",
    "                if (Users[id_no]['DATA']['Balance'] - amount) < 0:\n",
    "                    print 'Requested amount exceeds current balance!'\n",
    "                else:\n",
    "                    Users[id_no]['DATA']['Balance'] -= amount\n",
    "                    Users[id_no]['DATA']['History'].append({'Withdraw': -amount, 'Date/time':(datestamp(),timestamp())})\n",
    "                    break\n",
    "        except ValueError:\n",
    "            print 'Input Error'\n",
    "    return Users\n"
   ]
  },
  {
   "cell_type": "code",
   "execution_count": 7,
   "metadata": {
    "collapsed": false
   },
   "outputs": [
    {
     "name": "stdout",
     "output_type": "stream",
     "text": [
      "18:43:13\n",
      "14/06/2015\n"
     ]
    }
   ],
   "source": [
    "print timestamp()\n",
    "print datestamp()"
   ]
  },
  {
   "cell_type": "code",
   "execution_count": 9,
   "metadata": {
    "collapsed": false
   },
   "outputs": [],
   "source": [
    "import sys, shelve\n",
    "def setup_database():\n",
    "    DB = shelve.open('database.dat')\n",
    "    DB['kvitt'] = 0\n",
    "    DB['number'] = 0\n",
    "    return DB\n",
    "    \n",
    "if __name__ == '__main__':\n",
    "    setup_database()\n"
   ]
  },
  {
   "cell_type": "code",
   "execution_count": 15,
   "metadata": {
    "collapsed": false
   },
   "outputs": [],
   "source": [
    "import Tkinter\n"
   ]
  },
  {
   "cell_type": "code",
   "execution_count": null,
   "metadata": {
    "collapsed": true
   },
   "outputs": [],
   "source": []
  }
 ],
 "metadata": {
  "kernelspec": {
   "display_name": "Python 2",
   "language": "python",
   "name": "python2"
  },
  "language_info": {
   "codemirror_mode": {
    "name": "ipython",
    "version": 2
   },
   "file_extension": ".py",
   "mimetype": "text/x-python",
   "name": "python",
   "nbconvert_exporter": "python",
   "pygments_lexer": "ipython2",
   "version": "2.7.9"
  }
 },
 "nbformat": 4,
 "nbformat_minor": 0
}
