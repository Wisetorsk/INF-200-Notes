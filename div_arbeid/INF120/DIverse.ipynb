{
 "cells": [
  {
   "cell_type": "code",
   "execution_count": null,
   "metadata": {
    "collapsed": true
   },
   "outputs": [],
   "source": [
    "import numpy as np\n",
    "import matplotlib.pyplot as plt\n",
    "import turtle as trl\n",
    "import sys, shelve\n",
    "import socket"
   ]
  },
  {
   "cell_type": "code",
   "execution_count": 3,
   "metadata": {
    "collapsed": false
   },
   "outputs": [
    {
     "name": "stdout",
     "output_type": "stream",
     "text": [
      "Enter command (? for help): store\n",
      "Enter ID number: 999\n",
      "Enter name: Ida Brennodden\n",
      "Enter age: 22\n",
      "Enter phone number: 888-88-888\n",
      "Enter command (? for help): Store\n",
      "Enter ID number: 888\n",
      "Enter name: Marius Kristiansen\n",
      "Enter age: 23\n",
      "Enter phone number: 94256408\n",
      "Enter command (? for help): ?\n",
      "The available commands are:\n",
      "store    : Stores information about a person\n",
      "lookup   : Looks up a person from ID number\n",
      "quit     : Save changes and exit\n",
      "?        : Prints this message\n",
      "Enter command (? for help): lookup\n",
      "Enter ID number: 999\n",
      "Ehat would you like to know? (name, age, phone): phone\n",
      "Phone: 888-88-888\n",
      "Enter command (? for help): quit\n"
     ]
    }
   ],
   "source": [
    "def store_person(db):\n",
    "    \"\"\"\n",
    "    Query userm and store it in a database\n",
    "    \"\"\"\n",
    "    pid = raw_input('Enter ID number: ')\n",
    "    person = {}\n",
    "    person['name'] = raw_input('Enter name: ')\n",
    "    person['age'] = raw_input('Enter age: ')\n",
    "    person['phone'] = raw_input('Enter phone number: ')\n",
    "    \n",
    "    db[pid] = person\n",
    "    \n",
    "def lookup_person(db):\n",
    "    pid = raw_input('Enter ID number: ')\n",
    "    field = raw_input('What would you like to know? (name, age, phone): ')\n",
    "    field = field.strip().lower()\n",
    "    print field.capitalize() + ':', \\\n",
    "        db[pid][field]\n",
    "\n",
    "def print_help():\n",
    "    print 'The available commands are:'\n",
    "    print 'store    : Stores information about a person'\n",
    "    print 'lookup   : Looks up a person from ID number'\n",
    "    print 'quit     : Save changes and exit'\n",
    "    print '?        : Prints this message'\n",
    "    \n",
    "def enter_command():\n",
    "    cmd = raw_input('Enter command (? for help): ')\n",
    "    cmd = cmd.strip().lower()\n",
    "    return cmd\n",
    "\n",
    "def main():\n",
    "    database = shelve.open('test_database.dat')\n",
    "    try:\n",
    "        while True:  \n",
    "            cmd = enter_command()\n",
    "            if cmd == 'store':\n",
    "                store_person(database)\n",
    "            elif cmd == 'lookup':\n",
    "                lookup_person(database)\n",
    "            elif cmd == '?':\n",
    "                print_help()\n",
    "            elif cmd == 'quit':\n",
    "                return\n",
    "    finally:\n",
    "        database.close()\n",
    "        \n",
    "if __name__ == '__main__':\n",
    "    main()"
   ]
  },
  {
   "cell_type": "code",
   "execution_count": 4,
   "metadata": {
    "collapsed": false
   },
   "outputs": [
    {
     "name": "stdout",
     "output_type": "stream",
     "text": [
      "The average force between the two objects is 9.813 newtons\n"
     ]
    }
   ],
   "source": [
    "class Eksamen:\n",
    "    def __init__(self):\n",
    "        self.g = 9.81\n",
    "        self.Y = 6.67E-11\n",
    "        self.distance = None\n",
    "    \n",
    "    def register_bodies(self, m1, m2, x1, x2):\n",
    "        self.mass_1 = m1\n",
    "        self.mass_2 = m2\n",
    "        self.x_1 = x1\n",
    "        self.x_2 = x2\n",
    "        \n",
    "    def calculate_distance(self):\n",
    "        self.distance = abs(self.x_2-self.x_1)\n",
    "        return self.distance\n",
    "    \n",
    "    def calculate_force(self):\n",
    "        m1, m2, Y, x1, x2 = self.mass_1, self.mass_2, self.Y, self.x_1, self.x_2\n",
    "        if self.distance is None:\n",
    "            self.distance = x2-x1\n",
    "        self.force = float(Y*m1*m2)/self.distance**2\n",
    "        print 'The average force between the two objects is %2.4g newtons' % self.force\n",
    "        \n",
    "\n",
    "inst = Eksamen()\n",
    "Earth_R = 6.37E6\n",
    "inst.register_bodies(5.97E24, 1, 0, Earth_R)\n",
    "inst.calculate_force()"
   ]
  },
  {
   "cell_type": "code",
   "execution_count": null,
   "metadata": {
    "collapsed": true
   },
   "outputs": [],
   "source": [
    "def Eksamen_import(filename):\n",
    "    \"\"\"Opens and reads data\"\"\"\n",
    "    my_file = open(filename, 'r')\n",
    "    my_file.readline() # Leser av en linje \n",
    "    data = {}\n",
    "    for line in my_file:\n",
    "        words = line.split()\n",
    "        data[words[0]] = float(words[1])\n",
    "    my_file.close()\n",
    "    return"
   ]
  },
  {
   "cell_type": "markdown",
   "metadata": {},
   "source": [
    "Nå lagres informasjonen i en liste av lange strenger (i my_file). \n",
    "For å dele opp informasjonen slik at vi kan bruke den kan vi dele opp strengene ved å bruke kommandoen \".split()\". \n",
    "!NB! husk å konvertere tall-data fra str til float!!\n",
    "Alternativer innenfor \".split()\" kan være:\n",
    "    variabelnavn.split(':') - Deler inn der den møter på kolon\n",
    "    variabelnavn.split(';') - Deler inn der den møter på semikolon\n",
    "Split-commandoen leter gjennom strengen og deler den opp der den finner symbolet oppgitt ( \"(determinator = ' ')\" er default = mellomrom)\n",
    " \n",
    "! Husk å ALLTID bruke filnavn.close() !"
   ]
  },
  {
   "cell_type": "code",
   "execution_count": null,
   "metadata": {
    "collapsed": true
   },
   "outputs": [],
   "source": [
    "def Eksamen_import_2(filename):\n",
    "    \"\"\"Import using numpy\"\"\"\n",
    "    data = np.loadtxt(filename, comments = #)\n",
    "    return data"
   ]
  },
  {
   "cell_type": "code",
   "execution_count": 6,
   "metadata": {
    "collapsed": false
   },
   "outputs": [
    {
     "name": "stdout",
     "output_type": "stream",
     "text": [
      "City: Oslo\n",
      "Temperature: 25\n",
      "Quit inputting data?(y/n): n\n",
      "City: Lillehammer\n",
      "Temperature: 15\n",
      "Quit inputting data?(y/n): y\n"
     ]
    },
    {
     "data": {
      "text/plain": [
       "{'Lillehammer': 15.0, 'Oslo': 25.0}"
      ]
     },
     "execution_count": 6,
     "metadata": {},
     "output_type": "execute_result"
    }
   ],
   "source": [
    "def register():\n",
    "    temps = {}\n",
    "    while True:\n",
    "        try:\n",
    "            name = raw_input('City: ')\n",
    "            temp = float(raw_input('Temperature: '))\n",
    "            temps[name] = temp\n",
    "        except ValueError:\n",
    "            print 'INPUT ERROR!'\n",
    "        end = raw_input('Quit inputting data?(y/n): ')\n",
    "        if end == 'y':\n",
    "            break\n",
    "    return temps\n",
    "\n",
    "register()"
   ]
  },
  {
   "cell_type": "code",
   "execution_count": 7,
   "metadata": {
    "collapsed": false
   },
   "outputs": [
    {
     "name": "stdout",
     "output_type": "stream",
     "text": [
      "['Dette', 'er', 'en', 'lang', 'test', 'streng.', 'Denne', 'strengen', 'skal', 'jeg', 'bruke', 'til', '\\xc3\\xa5', 'teste', 'forskjellige', 'metoder', 'for', 'behandling', 'av', 'strenger.', '[1,2,3,4,5,6,7,8,9]']\n"
     ]
    }
   ],
   "source": [
    "# Strengbehandling\n",
    "String = \"\"\"Dette er en lang test streng. \n",
    "Denne strengen skal jeg bruke til å teste forskjellige metoder for behandling av strenger. \n",
    "[1,2,3,4,5,6,7,8,9]\"\"\"\n",
    "print String.split()"
   ]
  },
  {
   "cell_type": "code",
   "execution_count": 8,
   "metadata": {
    "collapsed": false
   },
   "outputs": [
    {
     "name": "stdout",
     "output_type": "stream",
     "text": [
      "['Dette er en lang test streng', ' \\nDenne strengen skal jeg bruke til \\xc3\\xa5 teste forskjellige metoder for behandling av strenger', ' \\n[1,2,3,4,5,6,7,8,9]']\n"
     ]
    }
   ],
   "source": [
    "print String.split('.')"
   ]
  },
  {
   "cell_type": "code",
   "execution_count": 9,
   "metadata": {
    "collapsed": false
   },
   "outputs": [
    {
     "name": "stdout",
     "output_type": "stream",
     "text": [
      " \n",
      "Denne strengen skal jeg bruke til å teste forskjellige metoder for behandling av strenger\n"
     ]
    }
   ],
   "source": [
    "print String.split('.')[1]"
   ]
  },
  {
   "cell_type": "code",
   "execution_count": 10,
   "metadata": {
    "collapsed": false
   },
   "outputs": [
    {
     "name": "stdout",
     "output_type": "stream",
     "text": [
      "Dette \n"
     ]
    }
   ],
   "source": [
    "print String[:6]"
   ]
  },
  {
   "cell_type": "code",
   "execution_count": 11,
   "metadata": {
    "collapsed": false
   },
   "outputs": [
    {
     "name": "stdout",
     "output_type": "stream",
     "text": [
      "Marius har 50 Gb data fritt\n",
      "Marius har 175 Gb data fritt\n",
      "Marius har 170 Gb data fritt\n"
     ]
    }
   ],
   "source": [
    "class Test:\n",
    "    \"\"\"Eksamensoppgave nr.8 V2015\"\"\"\n",
    "    def __init__(self, navn, mengde):\n",
    "        \"\"\"Constructor\"\"\"\n",
    "        self.navn = navn\n",
    "        self.mengde = mengde\n",
    "        \n",
    "    def data_bruk(self, n):\n",
    "        \"\"\"Data usage n = amount\"\"\"\n",
    "        self.mengde -= n\n",
    "    \n",
    "    def data_fri(self, n):\n",
    "        \"\"\"Data freed n = amount\"\"\"\n",
    "        self.mengde += n\n",
    "    \n",
    "    def dump(self):\n",
    "        print '%s har %d Gb data fritt' % (self.navn, self.mengde)\n",
    "\n",
    "marius = Test(\"Marius\",100)\n",
    "marius.data_bruk(50)\n",
    "marius.dump()\n",
    "marius.data_fri(125)\n",
    "marius.dump()\n",
    "marius.data_bruk(5)\n",
    "marius.dump()\n"
   ]
  },
  {
   "cell_type": "code",
   "execution_count": null,
   "metadata": {
    "collapsed": true
   },
   "outputs": [],
   "source": [
    "# GUI og turtle!\n",
    "import turtle as trl\n",
    "from Tkinter import *\n",
    "root = Tk()\n",
    "degrees_entry = Entry(root, width=4)\n",
    "degrees_entry.pack(side = 'left')\n",
    "degrees_label = Label(root, text = 'Degrees (clockwise!)')\n",
    "degrees_label.pack(side='left')\n",
    "\n",
    "def turn():\n",
    "    deg = float(degrees_entry.get())\n",
    "    trl.right(deg)\n",
    "    \n",
    "turn = Button(root, text = 'CCW!', command = turn)\n",
    "turn.pack(side = 'left', padx = 4)\n",
    "\n",
    "def turn_v():\n",
    "    deg = float(degrees_entry.get())\n",
    "    trl.left(deg)\n",
    "    \n",
    "turn_v = Button(root, text = 'CW!', command = turn_v)\n",
    "turn_v.pack(side = 'left', padx = 4)\n",
    "\n",
    "forward_entry = Entry(root, width = 4)\n",
    "forward_entry.pack(side = 'left')\n",
    "forward_label = Label(root, text = 'Length')\n",
    "forward_label.pack(side = 'left')\n",
    "\n",
    "def forward():\n",
    "    length = float(forward_entry.get())\n",
    "    trl.forward(length)\n",
    "    \n",
    "forward = Button(root, text = 'Forward!', command = forward)\n",
    "forward.pack(side = 'left', padx = 4)\n",
    "\n",
    "def clear_wall():\n",
    "    trl.clear()\n",
    "    \n",
    "clear_wall = Button(root, text = 'Clear', command = clear_wall)\n",
    "clear_wall.pack(side = 'left', padx = 4)\n",
    "root.mainloop()"
   ]
  },
  {
   "cell_type": "code",
   "execution_count": 14,
   "metadata": {
    "collapsed": false
   },
   "outputs": [],
   "source": [
    "x = np.linspace(0,7,200)\n",
    "y = np.sin(x)\n",
    "plt.subplot(2,1,1)\n",
    "plt.plot(x,y,'r', label='sin(x)')\n",
    "plt.legend()\n",
    "\n",
    "plt.subplot(2,1,2)\n",
    "plt.plot(x,np.cos(x),'*b', label ='Xos(x)')\n",
    "plt.plot(x,np.cos(x)*np.cos(x), 'r', label = 'Cos(x)*Cos(x)')\n",
    "plt.legend()\n",
    "plt.show()"
   ]
  },
  {
   "cell_type": "code",
   "execution_count": 24,
   "metadata": {
    "collapsed": true
   },
   "outputs": [],
   "source": [
    "x1 = np.linspace(0.0, 5.0)\n",
    "x2 = np.linspace(0.0, 2.0)\n",
    "\n",
    "y1 = np.cos(2 * np.pi * x1) * np.exp(-x1)\n",
    "y2 = np.cos(2 * np.pi * x2)\n",
    "\n",
    "plt.subplot(2, 1, 1)\n",
    "plt.plot(x1, y1, 'ko-')\n",
    "plt.grid()\n",
    "plt.title('A tale of 2 subplots')\n",
    "plt.ylabel('Damped oscillation')\n",
    "\n",
    "plt.subplot(2, 1, 2)\n",
    "plt.plot(x2, y2, 'r.-')\n",
    "plt.grid()\n",
    "plt.xlabel('time (s)')\n",
    "plt.ylabel('Undamped')\n",
    "\n",
    "plt.show()"
   ]
  },
  {
   "cell_type": "code",
   "execution_count": 26,
   "metadata": {
    "collapsed": true
   },
   "outputs": [],
   "source": [
    "import socket"
   ]
  },
  {
   "cell_type": "markdown",
   "metadata": {},
   "source": [
    "# Minimal server"
   ]
  },
  {
   "cell_type": "code",
   "execution_count": null,
   "metadata": {
    "collapsed": true
   },
   "outputs": [],
   "source": [
    "import socket\n",
    "\n",
    "s = socket.socket()\n",
    "\n",
    "host = socket.gethostname()\n",
    "port = 1234\n",
    "s.bind((host, port))\n",
    "\n",
    "s.listen(5)\n",
    "while True:\n",
    "    c, addr = s.accept()\n",
    "    print 'Got connection from', addr\n",
    "    c.send('Thank you for connecting')\n",
    "    c.close()\n",
    "    "
   ]
  },
  {
   "cell_type": "markdown",
   "metadata": {},
   "source": [
    "# Minimal client"
   ]
  },
  {
   "cell_type": "code",
   "execution_count": null,
   "metadata": {
    "collapsed": true
   },
   "outputs": [],
   "source": [
    "import socket\n",
    "\n",
    "s = socket.socket()\n",
    "\n",
    "host = socket.gethostname()\n",
    "port = 1234\n",
    "s.connect((host, port))\n",
    "print s.recv(1024)"
   ]
  },
  {
   "cell_type": "code",
   "execution_count": 27,
   "metadata": {
    "collapsed": true
   },
   "outputs": [],
   "source": [
    "from distutils.core import setup\n",
    "\n",
    "setup(name = 'Hello',\n",
    "      version = '1.0',\n",
    "      description = 'A simple example',\n",
    "      author = 'Magnus Lie Hetland',\n",
    "      py_modules = ['hello'])\n"
   ]
  },
  {
   "cell_type": "code",
   "execution_count": 32,
   "metadata": {
    "collapsed": false
   },
   "outputs": [
    {
     "ename": "ImportError",
     "evalue": "No module named reportlab.graphics.shapes",
     "output_type": "error",
     "traceback": [
      "\u001b[1;31m---------------------------------------------------------------------------\u001b[0m",
      "\u001b[1;31mImportError\u001b[0m                               Traceback (most recent call last)",
      "\u001b[1;32m<ipython-input-32-7d284509bc39>\u001b[0m in \u001b[0;36m<module>\u001b[1;34m()\u001b[0m\n\u001b[1;32m----> 1\u001b[1;33m \u001b[1;32mfrom\u001b[0m \u001b[0mreportlab\u001b[0m\u001b[1;33m.\u001b[0m\u001b[0mgraphics\u001b[0m\u001b[1;33m.\u001b[0m\u001b[0mshapes\u001b[0m \u001b[1;32mimport\u001b[0m \u001b[0mDrawing\u001b[0m\u001b[1;33m,\u001b[0m \u001b[0mString\u001b[0m\u001b[1;33m\u001b[0m\u001b[0m\n\u001b[0m",
      "\u001b[1;31mImportError\u001b[0m: No module named reportlab.graphics.shapes"
     ]
    }
   ],
   "source": [
    "from reportlab.graphics.shapes import Drawing, String"
   ]
  },
  {
   "cell_type": "code",
   "execution_count": 1,
   "metadata": {
    "collapsed": false
   },
   "outputs": [],
   "source": [
    "import turtle\n",
    "def draw_geo(sides):\n",
    "    for a in range(sides):\n",
    "        turtle.forward(100)\n",
    "        turtle.right(360/sides)\n",
    "        \n",
    "draw_geo(5)\n",
    "draw_geo(8)"
   ]
  },
  {
   "cell_type": "code",
   "execution_count": null,
   "metadata": {
    "collapsed": true
   },
   "outputs": [],
   "source": []
  }
 ],
 "metadata": {
  "kernelspec": {
   "display_name": "Python 2",
   "language": "python",
   "name": "python2"
  },
  "language_info": {
   "codemirror_mode": {
    "name": "ipython",
    "version": 2
   },
   "file_extension": ".py",
   "mimetype": "text/x-python",
   "name": "python",
   "nbconvert_exporter": "python",
   "pygments_lexer": "ipython2",
   "version": "2.7.9"
  }
 },
 "nbformat": 4,
 "nbformat_minor": 0
}
