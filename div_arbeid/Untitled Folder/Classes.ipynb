{
 "cells": [
  {
   "cell_type": "markdown",
   "metadata": {},
   "source": [
    "#Random uses of classes\n",
    "##Superclass, subclass & inheritance"
   ]
  },
  {
   "cell_type": "code",
   "execution_count": 1,
   "metadata": {
    "collapsed": true
   },
   "outputs": [],
   "source": [
    "import numpy as np\n",
    "import random as rng"
   ]
  },
  {
   "cell_type": "code",
   "execution_count": 6,
   "metadata": {
    "collapsed": false
   },
   "outputs": [
    {
     "name": "stdout",
     "output_type": "stream",
     "text": [
      "Distance:    1 -> Path length: [1, 217, 219, 221, 959]\n",
      "Distance:    2 -> Path length: [6, 8, 28, 82, 86]\n",
      "Distance:    5 -> Path length: [153, 163, 173, 183, 185]\n",
      "Distance:   10 -> Path length: [70, 92, 94, 120, 138]\n",
      "Distance:   20 -> Path length: [882, 1076, 1078, 1080, 1082]\n",
      "Distance:   50 -> Path length: [597860, 597868, 597884, 597890, 606842]\n",
      "Distance:  100 -> Path length: [86578, 86580, 86582, 86584, 86598]\n"
     ]
    }
   ],
   "source": [
    "class Walk(object):\n",
    "    \"\"\"\n",
    "    I have omitted the \"Where am i\" -method, as it\n",
    "    is not needed in this revision of the program\n",
    "    \"\"\"\n",
    "    def __init__(self, home, start = 0):\n",
    "        self._home = home\n",
    "        self._position = start\n",
    "        self._steps = 0\n",
    "        self._steplist = []\n",
    "        \n",
    "    def direction(self):\n",
    "        \"\"\"\n",
    "        \"\"\"\n",
    "        \n",
    "        direc = rng.randint(1,2)\n",
    "        self._steps += 1\n",
    "        if direc == 1:\n",
    "            self._position -= 1\n",
    "        else:\n",
    "            self._position += 1\n",
    "        \n",
    "    def amihome(self):\n",
    "        if self._position == self._home:\n",
    "            self._steplist.append(self._steps)\n",
    "            return True\n",
    "        \n",
    "    def walking_home(self):\n",
    "        while True:\n",
    "            self.direction()\n",
    "            if self.amihome() is True:\n",
    "                break\n",
    "    \n",
    "    def simulate(self, n):\n",
    "        for _ in range(n):\n",
    "            self.walking_home()\n",
    "        print \"Distance: {:4} -> Path length: {}\".format(self._home, self._steplist)\n",
    "\n",
    "if __name__ == '__main__':\n",
    "    distances = [Walk(dist) for dist in [1,2,5,10,20,50,100]]\n",
    "    for d in distances:\n",
    "        d.simulate(5)"
   ]
  },
  {
   "cell_type": "code",
   "execution_count": 12,
   "metadata": {
    "collapsed": false
   },
   "outputs": [
    {
     "name": "stdout",
     "output_type": "stream",
     "text": [
      "Seed: 56467\n",
      "949040869\n",
      "1168839014\n",
      "1644389189\n",
      "1282046280\n",
      "1648397609\n",
      "2079568163\n",
      "1005760616\n",
      "974887575\n",
      "1782730062\n",
      "652309090\n",
      "1\n",
      "2\n",
      "3\n",
      "4\n",
      "5\n",
      "6\n",
      "7\n",
      "8\n"
     ]
    },
    {
     "ename": "RuntimeError",
     "evalue": "Given number list is empty or has run out of numbers!",
     "output_type": "error",
     "traceback": [
      "\u001b[1;31m---------------------------------------------------------------------------\u001b[0m",
      "\u001b[1;31mRuntimeError\u001b[0m                              Traceback (most recent call last)",
      "\u001b[1;32m<ipython-input-12-16fcba431595>\u001b[0m in \u001b[0;36m<module>\u001b[1;34m()\u001b[0m\n\u001b[0;32m     27\u001b[0m         \u001b[1;32mprint\u001b[0m \u001b[0mRNG\u001b[0m\u001b[1;33m.\u001b[0m\u001b[0mrand\u001b[0m\u001b[1;33m(\u001b[0m\u001b[1;33m)\u001b[0m\u001b[1;33m\u001b[0m\u001b[0m\n\u001b[0;32m     28\u001b[0m     \u001b[1;32mfor\u001b[0m \u001b[0m_\u001b[0m \u001b[1;32min\u001b[0m \u001b[0mrange\u001b[0m\u001b[1;33m(\u001b[0m\u001b[1;36m10\u001b[0m\u001b[1;33m)\u001b[0m\u001b[1;33m:\u001b[0m\u001b[1;33m\u001b[0m\u001b[0m\n\u001b[1;32m---> 29\u001b[1;33m         \u001b[1;32mprint\u001b[0m \u001b[0mRNG2\u001b[0m\u001b[1;33m.\u001b[0m\u001b[0mrand\u001b[0m\u001b[1;33m(\u001b[0m\u001b[1;33m)\u001b[0m\u001b[1;33m\u001b[0m\u001b[0m\n\u001b[0m",
      "\u001b[1;32m<ipython-input-12-16fcba431595>\u001b[0m in \u001b[0;36mrand\u001b[1;34m(self)\u001b[0m\n\u001b[0;32m     17\u001b[0m     \u001b[1;32mdef\u001b[0m \u001b[0mrand\u001b[0m\u001b[1;33m(\u001b[0m\u001b[0mself\u001b[0m\u001b[1;33m)\u001b[0m\u001b[1;33m:\u001b[0m\u001b[1;33m\u001b[0m\u001b[0m\n\u001b[0;32m     18\u001b[0m         \u001b[1;32mif\u001b[0m \u001b[0mlen\u001b[0m\u001b[1;33m(\u001b[0m\u001b[0mself\u001b[0m\u001b[1;33m.\u001b[0m\u001b[0m_n\u001b[0m\u001b[1;33m)\u001b[0m \u001b[1;33m==\u001b[0m \u001b[1;36m0\u001b[0m\u001b[1;33m:\u001b[0m\u001b[1;33m\u001b[0m\u001b[0m\n\u001b[1;32m---> 19\u001b[1;33m             \u001b[1;32mraise\u001b[0m \u001b[0mRuntimeError\u001b[0m\u001b[1;33m(\u001b[0m\u001b[1;34m'Given number list is empty or has run out of numbers!'\u001b[0m\u001b[1;33m)\u001b[0m\u001b[1;33m\u001b[0m\u001b[0m\n\u001b[0m\u001b[0;32m     20\u001b[0m         \u001b[1;32melse\u001b[0m\u001b[1;33m:\u001b[0m\u001b[1;33m\u001b[0m\u001b[0m\n\u001b[0;32m     21\u001b[0m             \u001b[1;32mreturn\u001b[0m \u001b[0mself\u001b[0m\u001b[1;33m.\u001b[0m\u001b[0m_n\u001b[0m\u001b[1;33m.\u001b[0m\u001b[0mpop\u001b[0m\u001b[1;33m(\u001b[0m\u001b[1;36m0\u001b[0m\u001b[1;33m)\u001b[0m\u001b[1;33m\u001b[0m\u001b[0m\n",
      "\u001b[1;31mRuntimeError\u001b[0m: Given number list is empty or has run out of numbers!"
     ]
    }
   ],
   "source": [
    "class LCGRand(object):\n",
    "    \n",
    "    def __init__(self, seed):\n",
    "        self._seed = seed\n",
    "        self._a = 7**5\n",
    "        self._m = (2**31)-1\n",
    "        \n",
    "    def rand(self):\n",
    "        self._seed = (self._a * self._seed)%self._m\n",
    "        return self._seed\n",
    "    \n",
    "class ListRand(object):\n",
    "    \n",
    "    def __init__(self, n):\n",
    "        self._n = n\n",
    "        \n",
    "    def rand(self):\n",
    "        if len(self._n) == 0:\n",
    "            raise RuntimeError('Given number list is empty or has run out of numbers!')\n",
    "        else:\n",
    "            return self._n.pop(0)\n",
    "    \n",
    "if __name__ == '__main__':\n",
    "    RNG = LCGRand(int(raw_input('Seed: ')))\n",
    "    RNG2 = ListRand([1,2,3,4,5,6,7,8])\n",
    "    for _ in range(10):\n",
    "        print RNG.rand()\n",
    "    for _ in range(10):\n",
    "        print RNG2.rand()"
   ]
  },
  {
   "cell_type": "markdown",
   "metadata": {},
   "source": [
    "<h2>2.nd implementation</h2>"
   ]
  },
  {
   "cell_type": "code",
   "execution_count": null,
   "metadata": {
    "collapsed": true
   },
   "outputs": [],
   "source": [
    "class Walk(object):\n",
    "    \n",
    "    def __init__(self, home, start=0):\n",
    "        self._home = home\n",
    "        self._start = start\n",
    "        self._steps = o\n",
    "        self._steplist = []\n",
    "        \n",
    "    def one_step(self):\n",
    "        w = rng.randint(1,2)\n",
    "        if w == 1:\n",
    "            self._start -= 1\n",
    "        else: \n",
    "            self._start += 1\n",
    "            \n",
    "    def whereami(self):\n",
    "        return self._start\n",
    "    \n",
    "    def amihome(self):\n",
    "        if self._start == self._home:\n",
    "            self._steplist.append(self._steps)\n",
    "            return True\n",
    "        \n",
    "    def \n",
    "    \n",
    "if __name__ == '__main__':\n",
    "    "
   ]
  },
  {
   "cell_type": "code",
   "execution_count": 13,
   "metadata": {
    "collapsed": true
   },
   "outputs": [],
   "source": [
    "class LCGRand(object):\n",
    "    \n",
    "    def __init__(self, seed):\n",
    "        self._seed = seed\n",
    "        self._a = 7**5\n",
    "        self._m = (2**31)-1\n",
    "        \n",
    "    def rand(self):\n",
    "        self._seed = (self._a * self._seed)%self._m\n",
    "        return self._seed\n",
    "    \n",
    "if __name__ == '__main__':\n",
    "    ran = LCGRand(6537)\n",
    "    randomnu = [ran.rand() for _ in range(1000)]"
   ]
  },
  {
   "cell_type": "code",
   "execution_count": 20,
   "metadata": {
    "collapsed": false
   },
   "outputs": [],
   "source": [
    "import matplotlib.pyplot as plt\n",
    "plt.hist([ran.rand()for _ in range(10000)])\n",
    "plt.show()"
   ]
  },
  {
   "cell_type": "code",
   "execution_count": 18,
   "metadata": {
    "collapsed": true
   },
   "outputs": [],
   "source": [
    "plt.hist([rng.random() for _ in range(10000)])\n",
    "plt.show()"
   ]
  },
  {
   "cell_type": "code",
   "execution_count": 21,
   "metadata": {
    "collapsed": true
   },
   "outputs": [],
   "source": []
  },
  {
   "cell_type": "code",
   "execution_count": 1,
   "metadata": {
    "collapsed": false
   },
   "outputs": [
    {
     "name": "stdout",
     "output_type": "stream",
     "text": [
      "==============================\n",
      "User not logged inn, please run \"USERNAME\".open_account(\"account number\")\n",
      "Account number: 66\n",
      "User not registered, register new?: \n",
      "\n",
      "\n",
      "Y/N: n\n"
     ]
    }
   ],
   "source": [
    "# -*- coding: utf-8 -*-\n",
    "import shelve\n",
    "import time\n",
    "\n",
    "\"\"\"\n",
    "\n",
    "\"\"\"\n",
    "\n",
    "__author__ = 'Marius Kristiansen'\n",
    "__email__ = 'mariukri@nmbu.no'\n",
    "\n",
    "\n",
    "class Banking(object):\n",
    "\n",
    "    def __init__(self, user_database, field=40):\n",
    "        \"\"\"\n",
    "\n",
    "        :param user_database:\n",
    "        :param field: with default value 40 chr\n",
    "        :return:\n",
    "        \"\"\"\n",
    "        self._title = '<TEST>'\n",
    "        self._fieldwidth = field\n",
    "        self._users = user_database\n",
    "        self._current = None\n",
    "\n",
    "    def set_field(self, field):\n",
    "        \"\"\"\n",
    "        If fieldwidth needs to be altered during operation\n",
    "\n",
    "        :param field:\n",
    "        :return:\n",
    "        \"\"\"\n",
    "        self._fieldwidth = field\n",
    "\n",
    "    def open_account(self, acc_no):\n",
    "        \"\"\"\n",
    "\n",
    "        :param acc_no:\n",
    "        :return:\n",
    "        \"\"\"\n",
    "        acc_no = str(acc_no)\n",
    "        #  self._acc_no = str(acc_no)\n",
    "        if acc_no not in self._users:\n",
    "            print 'User not registered, register new?: \\n\\n'\n",
    "            choice = raw_input('Y/N: ')\n",
    "            if choice[0].lower() == 'y':\n",
    "                username = raw_input('Name: ')\n",
    "                surname = raw_input('Surname: ')\n",
    "                while True:\n",
    "                    try:\n",
    "                        pin_1 = int(raw_input('PIN: '))\n",
    "                        pin_2 = int(raw_input('Re-enter for verification: '))\n",
    "                        if pin_1 == pin_2:\n",
    "                            break\n",
    "                        else:\n",
    "                            print 'PINs do not match'\n",
    "                    except ValueError:\n",
    "                        print 'Input is invalid!'\n",
    "                self._users[acc_no] = {'name': username, 'surname': surname,\n",
    "                                       'pin': pin_1, 'balance': 0}\n",
    "                self._current = self._users[acc_no]\n",
    "        else:\n",
    "            self._current = self._users[acc_no]\n",
    "            print 'Welcome, {} {}'.format(self._current['name'],\n",
    "                                          self._current['surname'])\n",
    "\n",
    "    def end_operation(self):\n",
    "        \"\"\"\n",
    "\n",
    "        :return:\n",
    "        \"\"\"\n",
    "        self._users[self._acc_no] = self._current\n",
    "\n",
    "    def head(self):\n",
    "        print '-'*((self._fieldwidth - len(self._title) )/2) + \\\n",
    "              self._title + '-'*((self._fieldwidth - len(self._title))/2)\n",
    "        print\n",
    "        print '{}, {}'.format(self._current['surname'].capitalize(),\n",
    "                             self._current['name'].capitalize())\n",
    "        print 'Account number: ' + ' '*(self._fieldwidth-21) + \\\n",
    "              '{}'.format(self._acc_no)\n",
    "        print '.'*self._fieldwidth + '\\n'\n",
    "\n",
    "    def footer(self):\n",
    "        print '='*self._fieldwidth\n",
    "        print self.timestamp() + ' '*(self._fieldwidth-20) + self.datestamp()\n",
    "        print '='*self._fieldwidth\n",
    "\n",
    "    def withdraw(self, amount):\n",
    "        \"\"\"\n",
    "\n",
    "        :param amount:\n",
    "        :return:\n",
    "        \"\"\"\n",
    "        self.head()\n",
    "        string_a = '\\'Original balance: {:' + str(self._fieldwidth-19) + \\\n",
    "                   '}\\'.format(self._current[\\'balance\\'])'\n",
    "        print eval(string_a)\n",
    "        self._current['balance'] -= amount\n",
    "        action = '\\'Withdraw: {:' + str(self._fieldwidth-11) + \\\n",
    "                 '}\\'.format(amount)'\n",
    "        print '-'*self._fieldwidth\n",
    "        print eval(action)\n",
    "        string_b = '\\'New balance: {:' + str(self._fieldwidth-14) + \\\n",
    "                   '}\\'.format(self._current[\\'balance\\'])'\n",
    "        print eval(string_b)\n",
    "        self.footer()\n",
    "\n",
    "    def deposit(self, amount):\n",
    "        \"\"\"\n",
    "\n",
    "        :param amount:\n",
    "        :return:\n",
    "        \"\"\"\n",
    "        self.head()\n",
    "        string_a = '\\'Original balance: {:' + str(self._fieldwidth-19) + \\\n",
    "                   '}\\'.format(self._current[\\'balance\\'])'\n",
    "        print eval(string_a)\n",
    "        self._current['balance'] += amount\n",
    "        print '-'*self._fieldwidth\n",
    "        action = '\\'Deposit: {:' + str(self._fieldwidth-10) + \\\n",
    "                 '}\\'.format(amount)'\n",
    "        print eval(action)\n",
    "        string_b = '\\'New balance: {:' + str(self._fieldwidth-14) + \\\n",
    "                   '}\\'.format(self._current[\\'balance\\'])'\n",
    "        print eval(string_b)\n",
    "        self.footer()\n",
    "\n",
    "    def dump(self):\n",
    "        \"\"\"\n",
    "\n",
    "        :return:\n",
    "        \"\"\"\n",
    "        try:\n",
    "            print '='*self._fieldwidth\n",
    "            strings = '\\'Current balance: {:' + str(self._fieldwidth-18) + \\\n",
    "                      '}\\'.format(self._current[\\'balance\\'])'\n",
    "            print eval(strings)\n",
    "            print '='*self._fieldwidth\n",
    "        except TypeError:\n",
    "            print 'User not logged inn, please run' \\\n",
    "                  ' \"USERNAME\".open_account(\"account number\")'\n",
    "\n",
    "    def datestamp(self):\n",
    "        \"\"\"\n",
    "\n",
    "        :return:\n",
    "        \"\"\"\n",
    "        mon = ['Jan', 'Feb', 'Mar', 'Apr', 'May', 'Jun', 'Jul',\n",
    "               'Aug', 'Sep', 'Oct', 'Nov', 'Dec']\n",
    "        stamp = time.localtime()\n",
    "        if len(str(stamp[2])) == 1:\n",
    "            day = '0' + str(stamp[2])\n",
    "        else:\n",
    "            day = str(stamp[2])\n",
    "        return '{}/{}/{}'.format(day, mon[stamp[1]], stamp[0])\n",
    "\n",
    "    def timestamp(self):\n",
    "        \"\"\"\n",
    "\n",
    "        :return:\n",
    "        \"\"\"\n",
    "        stamp = time.localtime()\n",
    "        timeprint = []\n",
    "        for denom in range(3, 6):\n",
    "            if len(str(stamp[denom])) == 1:\n",
    "                timeprint.append('0' + str(stamp[denom]))\n",
    "            else:\n",
    "                timeprint.append(str(stamp[denom]))\n",
    "        return '{}:{}:{}'.format(timeprint[0], timeprint[1], timeprint[2])\n",
    "\n",
    "    def change_balance(self, amount):\n",
    "        self._current['balance'] = amount\n",
    "\n",
    "\n",
    "class ATM(object):\n",
    "\n",
    "    def __init__(self):\n",
    "        pass\n",
    "\n",
    "if __name__ == '__main__':\n",
    "    db = shelve.open('Banking.dat')\n",
    "    User = Banking(db, 30)\n",
    "    User.dump()\n",
    "    User.open_account(int(raw_input('Account number: ')))\n",
    "    db.close()"
   ]
  },
  {
   "cell_type": "code",
   "execution_count": 72,
   "metadata": {
    "collapsed": false
   },
   "outputs": [
    {
     "name": "stdout",
     "output_type": "stream",
     "text": [
      "{'balance': 0, 'surname': 'Kristiansen', 'name': 'Marius', 'pin': 123}\n"
     ]
    }
   ],
   "source": [
    "db = shelve.open('Banking.dat')\n",
    "for a in db:\n",
    "    print db[a]"
   ]
  },
  {
   "cell_type": "code",
   "execution_count": null,
   "metadata": {
    "collapsed": false
   },
   "outputs": [],
   "source": [
    "print a"
   ]
  },
  {
   "cell_type": "code",
   "execution_count": null,
   "metadata": {
    "collapsed": true
   },
   "outputs": [],
   "source": []
  }
 ],
 "metadata": {
  "kernelspec": {
   "display_name": "Python 2",
   "language": "python",
   "name": "python2"
  },
  "language_info": {
   "codemirror_mode": {
    "name": "ipython",
    "version": 2
   },
   "file_extension": ".py",
   "mimetype": "text/x-python",
   "name": "python",
   "nbconvert_exporter": "python",
   "pygments_lexer": "ipython2",
   "version": "2.7.9"
  }
 },
 "nbformat": 4,
 "nbformat_minor": 0
}
