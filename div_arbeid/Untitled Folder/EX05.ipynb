{
 "cells": [
  {
   "cell_type": "markdown",
   "metadata": {},
   "source": [
    "#Myrand.py"
   ]
  },
  {
   "cell_type": "code",
   "execution_count": null,
   "metadata": {
    "collapsed": true
   },
   "outputs": [],
   "source": [
    "# -*- coding: utf-8 -*-\n",
    "\n",
    "__author__ = 'mairius kristiansen'\n",
    "__email__ = 'mariukri@nmbu.no'"
   ]
  },
  {
   "cell_type": "code",
   "execution_count": 46,
   "metadata": {
    "collapsed": false
   },
   "outputs": [
    {
     "name": "stdout",
     "output_type": "stream",
     "text": [
      "LCGRand:  2958032\n",
      "ListRand:  12\n",
      "LCGRand:  323519943\n",
      "ListRand:  34\n",
      "LCGRand:  2118571444\n",
      "ListRand:  4\n",
      "LCGRand:  1551392048\n",
      "ListRand:  5434\n",
      "LCGRand:  1647192509\n",
      "ListRand:  3653747\n",
      "LCGRand:  1152805286\n",
      "ListRand:  67\n",
      "LCGRand:  600978568\n",
      "ListRand:  37624675856\n",
      "LCGRand:  1031200535\n",
      "ListRand:  75\n",
      "LCGRand:  1194360455\n",
      "ListRand:  52\n",
      "LCGRand:  1086518676\n",
      "ListRand:  443\n",
      "LCGRand:  1065937091\n",
      "ListRand:  654\n",
      "LCGRand:  896105163\n",
      "ListRand:  45\n",
      "LCGRand:  536658130\n",
      "ListRand:  675\n",
      "LCGRand:  181873510\n",
      "ListRand:  9643345\n",
      "LCGRand:  878852889\n",
      "ListRand: "
     ]
    },
    {
     "ename": "RuntimeError",
     "evalue": "RNGlist out of numbers!",
     "output_type": "error",
     "traceback": [
      "\u001b[1;31m---------------------------------------------------------------------------\u001b[0m",
      "\u001b[1;31mRuntimeError\u001b[0m                              Traceback (most recent call last)",
      "\u001b[1;32m<ipython-input-46-85a3320357f4>\u001b[0m in \u001b[0;36m<module>\u001b[1;34m()\u001b[0m\n\u001b[0;32m     26\u001b[0m     \u001b[1;32mwhile\u001b[0m \u001b[0mTrue\u001b[0m\u001b[1;33m:\u001b[0m \u001b[1;31m# Denne kommer til å kjøre frem til rng2(ListRand) går tom for tall\u001b[0m\u001b[1;33m\u001b[0m\u001b[0m\n\u001b[0;32m     27\u001b[0m         \u001b[1;32mprint\u001b[0m \u001b[1;34m'LCGRand: '\u001b[0m\u001b[1;33m,\u001b[0m \u001b[0mrng1\u001b[0m\u001b[1;33m.\u001b[0m\u001b[0mrand\u001b[0m\u001b[1;33m(\u001b[0m\u001b[1;33m)\u001b[0m\u001b[1;33m\u001b[0m\u001b[0m\n\u001b[1;32m---> 28\u001b[1;33m         \u001b[1;32mprint\u001b[0m \u001b[1;34m'ListRand: '\u001b[0m\u001b[1;33m,\u001b[0m \u001b[0mrng2\u001b[0m\u001b[1;33m.\u001b[0m\u001b[0mrand\u001b[0m\u001b[1;33m(\u001b[0m\u001b[1;33m)\u001b[0m\u001b[1;33m\u001b[0m\u001b[0m\n\u001b[0m\u001b[0;32m     29\u001b[0m \u001b[1;33m\u001b[0m\u001b[0m\n\u001b[0;32m     30\u001b[0m \u001b[1;33m\u001b[0m\u001b[0m\n",
      "\u001b[1;32m<ipython-input-46-85a3320357f4>\u001b[0m in \u001b[0;36mrand\u001b[1;34m(self)\u001b[0m\n\u001b[0;32m     16\u001b[0m     \u001b[1;32mdef\u001b[0m \u001b[0mrand\u001b[0m\u001b[1;33m(\u001b[0m\u001b[0mself\u001b[0m\u001b[1;33m)\u001b[0m\u001b[1;33m:\u001b[0m\u001b[1;33m\u001b[0m\u001b[0m\n\u001b[0;32m     17\u001b[0m         \u001b[1;32mif\u001b[0m \u001b[0mlen\u001b[0m\u001b[1;33m(\u001b[0m\u001b[0mself\u001b[0m\u001b[1;33m.\u001b[0m\u001b[0m_randlist\u001b[0m\u001b[1;33m)\u001b[0m \u001b[1;33m==\u001b[0m \u001b[1;36m0\u001b[0m\u001b[1;33m:\u001b[0m\u001b[1;33m\u001b[0m\u001b[0m\n\u001b[1;32m---> 18\u001b[1;33m             \u001b[1;32mraise\u001b[0m \u001b[0mRuntimeError\u001b[0m\u001b[1;33m(\u001b[0m\u001b[1;34m'RNGlist out of numbers!'\u001b[0m\u001b[1;33m)\u001b[0m\u001b[1;33m\u001b[0m\u001b[0m\n\u001b[0m\u001b[0;32m     19\u001b[0m         \u001b[1;32melse\u001b[0m\u001b[1;33m:\u001b[0m\u001b[1;33m\u001b[0m\u001b[0m\n\u001b[0;32m     20\u001b[0m             \u001b[1;32mreturn\u001b[0m \u001b[0mself\u001b[0m\u001b[1;33m.\u001b[0m\u001b[0m_randlist\u001b[0m\u001b[1;33m.\u001b[0m\u001b[0mpop\u001b[0m\u001b[1;33m(\u001b[0m\u001b[1;36m0\u001b[0m\u001b[1;33m)\u001b[0m\u001b[1;33m\u001b[0m\u001b[0m\n",
      "\u001b[1;31mRuntimeError\u001b[0m: RNGlist out of numbers!"
     ]
    }
   ],
   "source": [
    "class LCGRand(object):\n",
    "    \"\"\"DOCSTRING\"\"\"\n",
    "    def __init__(self, seed):\n",
    "        self._seed = seed\n",
    "        \n",
    "    def rand(self):\n",
    "        self._seed = (7**5 * self._seed) % ((2**31)-1)\n",
    "        return self._seed\n",
    "    \n",
    "    \n",
    "class ListRand(object):\n",
    "    \"\"\"DOCSTRING\"\"\"\n",
    "    def __init__(self, randlist):\n",
    "        self._randlist = randlist\n",
    "        \n",
    "    def rand(self):\n",
    "        if len(self._randlist) == 0:\n",
    "            raise RuntimeError('RNGlist out of numbers!')\n",
    "        else:\n",
    "            return self._randlist.pop(0)\n",
    "\n",
    "if __name__ == '__main__':\n",
    "    rng1 = LCGRand(176)\n",
    "    rng2 = ListRand([12,34,4,5434,3653747,67,37624675856,75,52,\n",
    "                     443,654,45,675,9643345])\n",
    "    while True: # Denne kommer til å kjøre frem til rng2(ListRand) går tom for tall\n",
    "        print 'LCGRand: ', rng1.rand()\n",
    "        print 'ListRand: ', rng2.rand()\n",
    "    \n",
    "    "
   ]
  },
  {
   "cell_type": "markdown",
   "metadata": {},
   "source": [
    "#Walker.py"
   ]
  },
  {
   "cell_type": "code",
   "execution_count": null,
   "metadata": {
    "collapsed": true
   },
   "outputs": [],
   "source": [
    "import random as rng\n",
    "class Walker(object):\n",
    "    \"\"\"\n",
    "    Walking in one dimension\n",
    "    \"\"\"\n",
    "    def __init__(self, initial, home):\n",
    "        self.initial = initial\n",
    "        self.home = home\n",
    "        self.steps = 0\n",
    "        \n",
    "        \n",
    "    def one_step(self, position):\n",
    "        step = rng.randint(1,2)\n",
    "        self.step()\n",
    "        if step == 1:\n",
    "            return position + 1\n",
    "        else:\n",
    "            return position - 1\n",
    "\n",
    "        \n",
    "    def check_home(self):\n",
    "        if self.position == self.home:\n",
    "            print \"I'm home!\"\n",
    "        \n",
    "        \n",
    "    def current_position(self):\n",
    "        self.positioin = position\n",
    "        \n",
    "        \n",
    "    def step(self):\n",
    "        self.steps += 1\n",
    "        \n",
    "        \n",
    "    def walk_home(self):\n",
    "        zero = self.initial\n",
    "        return self.step()\n",
    "    "
   ]
  },
  {
   "cell_type": "code",
   "execution_count": 3,
   "metadata": {
    "collapsed": false
   },
   "outputs": [
    {
     "name": "stdout",
     "output_type": "stream",
     "text": [
      "Distance:    1 -> Path Lengths: [3, 5, 13, 625, 629]\n",
      "Distance:    2 -> Path Lengths: [8, 12, 14, 18, 20]\n",
      "Distance:    5 -> Path Lengths: [45, 55, 57, 59, 61]\n",
      "Distance:   10 -> Path Lengths: [66, 72, 74, 76, 80]\n",
      "Distance:   20 -> Path Lengths: [62, 64, 70, 72, 74]\n",
      "Distance:   50 -> Path Lengths: [2200, 2202, 2204, 2222, 2232]\n",
      "Distance:  100 -> Path Lengths: [14408, 14420, 14432, 14434, 14442]\n"
     ]
    }
   ],
   "source": [
    "#Simple walker \n",
    "import random as rng\n",
    "\n",
    "class Walk(object):\n",
    "    \"\"\"\n",
    "    Simple walker algorithm in one dimension\n",
    "    \"\"\"\n",
    "    def __init__(self, home, start=0):\n",
    "        self._home = home\n",
    "        self._start = start\n",
    "        self._steps = 0\n",
    "        self._steplist = []\n",
    "\n",
    "        \n",
    "    def walk_home(self):\n",
    "        \"\"\"\n",
    "        Walks home one time\n",
    "        \"\"\"\n",
    "        while True:\n",
    "            self._start = self.way(self._start)\n",
    "            if self._start == self._home:\n",
    "                self._steplist.append(self._steps)\n",
    "                break\n",
    "               \n",
    "            \n",
    "    def way(self, position):\n",
    "        \"\"\"\n",
    "        Method that takes one one-dimentional step depending on 50/50 outcome\n",
    "        \"\"\"\n",
    "        direction = rng.randint(1,2)\n",
    "        self._steps += 1\n",
    "        if direction == 1:\n",
    "            return position -1\n",
    "        else:\n",
    "            return position +1\n",
    "        \n",
    "        \n",
    "    def simulate(self):\n",
    "        for _ in range(5):\n",
    "            self.walk_home()\n",
    "        print \"Distance: {:4} -> Path Lengths: {}\".format(self._home, self._steplist)\n",
    "\n",
    "        \n",
    "if __name__ == '__main__':\n",
    "    distances = [Walk(dist) for dist in [1,2,5,10,20,50,100]]\n",
    "    for d in distances:\n",
    "        d.simulate()"
   ]
  },
  {
   "cell_type": "code",
   "execution_count": null,
   "metadata": {
    "collapsed": true
   },
   "outputs": [],
   "source": []
  },
  {
   "cell_type": "code",
   "execution_count": null,
   "metadata": {
    "collapsed": true
   },
   "outputs": [],
   "source": []
  }
 ],
 "metadata": {
  "kernelspec": {
   "display_name": "Python 2",
   "language": "python",
   "name": "python2"
  },
  "language_info": {
   "codemirror_mode": {
    "name": "ipython",
    "version": 2
   },
   "file_extension": ".py",
   "mimetype": "text/x-python",
   "name": "python",
   "nbconvert_exporter": "python",
   "pygments_lexer": "ipython2",
   "version": "2.7.9"
  }
 },
 "nbformat": 4,
 "nbformat_minor": 0
}
