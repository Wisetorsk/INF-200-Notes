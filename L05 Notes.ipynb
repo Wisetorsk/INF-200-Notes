{
 "cells": [
  {
   "cell_type": "markdown",
   "metadata": {},
   "source": [
    "##Object oriented programming using classes"
   ]
  },
  {
   "cell_type": "markdown",
   "metadata": {},
   "source": [
    "- Hvorfor bruke classes?\n",
    "    - Holder data og algoritmer samlet på ett sted\n",
    "    - Tillater modisjon og utvidelse av data\n",
    "    - Oppnår høyere grad a fleksiilitet\n",
    "    - "
   ]
  },
  {
   "cell_type": "markdown",
   "metadata": {},
   "source": [
    "###Basic implementation of RANDU rng"
   ]
  },
  {
   "cell_type": "code",
   "execution_count": 2,
   "metadata": {
    "collapsed": false
   },
   "outputs": [
    {
     "name": "stdout",
     "output_type": "stream",
     "text": [
      "655390 7930219\n",
      "3932250 47580225\n",
      "17694990 214109379\n",
      "70779690 856434249\n",
      "265423230 1064137435\n",
      "955522170 824400017\n",
      "1196840302 1811614131\n",
      "728825930 1302600985\n",
      "43843806 101013323\n",
      "146080410 1767572961\n",
      "481888206 1106383267\n",
      "1576605546 1467561193\n",
      "827672126 995401403\n",
      "1514001082 1354292273\n",
      "1634957358 1314624659\n",
      "478701706 2141568441\n",
      "1042495902 1017788715\n",
      "1946660058 1865001857\n",
      "150013582 2029912707\n",
      "560010154 1836910473\n"
     ]
    }
   ],
   "source": [
    "class RANDU(object):\n",
    "    def seed(self, seed):\n",
    "        self._seed = seed\n",
    "        \n",
    "    def rand(self):\n",
    "        self._seed = (65539*self._seed) % 2**31\n",
    "        return self._seed\n",
    "        \n",
    "if __name__ == '__main__':\n",
    "    randu1 = RANDU()\n",
    "    randu1.seed(10)\n",
    "    randu2 = RANDU()\n",
    "    randu2.seed(121)\n",
    "    for _ in range(20):\n",
    "        print randu1.rand(), randu2.rand()"
   ]
  },
  {
   "cell_type": "markdown",
   "metadata": {},
   "source": [
    "###Myrand.py"
   ]
  },
  {
   "cell_type": "code",
   "execution_count": 11,
   "metadata": {
    "collapsed": false
   },
   "outputs": [
    {
     "name": "stdout",
     "output_type": "stream",
     "text": [
      "2958032\n",
      "12\n",
      "323519943\n",
      "34\n",
      "2118571444\n",
      "4\n",
      "1551392048\n",
      "5434\n",
      "1647192509\n",
      "3653747\n",
      "1152805286\n",
      "67\n",
      "600978568\n",
      "37624675856\n",
      "1031200535\n",
      "75\n",
      "1194360455\n",
      "52\n",
      "1086518676\n",
      "443\n",
      "1065937091\n",
      "654\n",
      "896105163\n",
      "45\n",
      "536658130\n",
      "675\n",
      "181873510\n",
      "9643345\n",
      "878852889\n"
     ]
    },
    {
     "ename": "RuntimeError",
     "evalue": "RNGlist out of numbers!",
     "output_type": "error",
     "traceback": [
      "\u001b[1;31m---------------------------------------------------------------------------\u001b[0m",
      "\u001b[1;31mRuntimeError\u001b[0m                              Traceback (most recent call last)",
      "\u001b[1;32m<ipython-input-11-9f465d7dcb8a>\u001b[0m in \u001b[0;36m<module>\u001b[1;34m()\u001b[0m\n\u001b[0;32m     26\u001b[0m     \u001b[1;32mfor\u001b[0m \u001b[0m_\u001b[0m \u001b[1;32min\u001b[0m \u001b[0mrange\u001b[0m\u001b[1;33m(\u001b[0m\u001b[1;36m40\u001b[0m\u001b[1;33m)\u001b[0m\u001b[1;33m:\u001b[0m\u001b[1;33m\u001b[0m\u001b[0m\n\u001b[0;32m     27\u001b[0m         \u001b[1;32mprint\u001b[0m \u001b[0mrng1\u001b[0m\u001b[1;33m.\u001b[0m\u001b[0mrand\u001b[0m\u001b[1;33m(\u001b[0m\u001b[1;33m)\u001b[0m\u001b[1;33m\u001b[0m\u001b[0m\n\u001b[1;32m---> 28\u001b[1;33m         \u001b[1;32mprint\u001b[0m \u001b[0mrng2\u001b[0m\u001b[1;33m.\u001b[0m\u001b[0mrand\u001b[0m\u001b[1;33m(\u001b[0m\u001b[1;33m)\u001b[0m\u001b[1;33m\u001b[0m\u001b[0m\n\u001b[0m\u001b[0;32m     29\u001b[0m \u001b[1;33m\u001b[0m\u001b[0m\n\u001b[0;32m     30\u001b[0m \u001b[1;33m\u001b[0m\u001b[0m\n",
      "\u001b[1;32m<ipython-input-11-9f465d7dcb8a>\u001b[0m in \u001b[0;36mrand\u001b[1;34m(self)\u001b[0m\n\u001b[0;32m     16\u001b[0m     \u001b[1;32mdef\u001b[0m \u001b[0mrand\u001b[0m\u001b[1;33m(\u001b[0m\u001b[0mself\u001b[0m\u001b[1;33m)\u001b[0m\u001b[1;33m:\u001b[0m\u001b[1;33m\u001b[0m\u001b[0m\n\u001b[0;32m     17\u001b[0m         \u001b[1;32mif\u001b[0m \u001b[0mlen\u001b[0m\u001b[1;33m(\u001b[0m\u001b[0mself\u001b[0m\u001b[1;33m.\u001b[0m\u001b[0m_randlist\u001b[0m\u001b[1;33m)\u001b[0m \u001b[1;33m==\u001b[0m \u001b[1;36m0\u001b[0m\u001b[1;33m:\u001b[0m\u001b[1;33m\u001b[0m\u001b[0m\n\u001b[1;32m---> 18\u001b[1;33m             \u001b[1;32mraise\u001b[0m \u001b[0mRuntimeError\u001b[0m\u001b[1;33m(\u001b[0m\u001b[1;34m'RNGlist out of numbers!'\u001b[0m\u001b[1;33m)\u001b[0m\u001b[1;33m\u001b[0m\u001b[0m\n\u001b[0m\u001b[0;32m     19\u001b[0m         \u001b[1;32melse\u001b[0m\u001b[1;33m:\u001b[0m\u001b[1;33m\u001b[0m\u001b[0m\n\u001b[0;32m     20\u001b[0m             \u001b[1;32mreturn\u001b[0m \u001b[0mself\u001b[0m\u001b[1;33m.\u001b[0m\u001b[0m_randlist\u001b[0m\u001b[1;33m.\u001b[0m\u001b[0mpop\u001b[0m\u001b[1;33m(\u001b[0m\u001b[1;36m0\u001b[0m\u001b[1;33m)\u001b[0m\u001b[1;33m\u001b[0m\u001b[0m\n",
      "\u001b[1;31mRuntimeError\u001b[0m: RNGlist out of numbers!"
     ]
    }
   ],
   "source": [
    "class LCGRand(object):\n",
    "    \"\"\"DOCSTRING\"\"\"\n",
    "    def __init__(self, seed):\n",
    "        self._seed = seed\n",
    "        \n",
    "    def rand(self):\n",
    "        self._seed = (7**5 * self._seed) % ((2**31)-1)\n",
    "        return self._seed\n",
    "    \n",
    "    \n",
    "class ListRand(object):\n",
    "    \"\"\"DOCSTRING\"\"\"\n",
    "    def __init__(self, randlist):\n",
    "        self._randlist = randlist\n",
    "        \n",
    "    def rand(self):\n",
    "        if len(self._randlist) == 0:\n",
    "            raise RuntimeError('RNGlist out of numbers!')\n",
    "        else:\n",
    "            return self._randlist.pop(0)\n",
    "\n",
    "if __name__ == '__main__':\n",
    "    rng1 = LCGRand(176)\n",
    "    rng2 = ListRand([12,34,4,5434,3653747,67,37624675856,75,52,\n",
    "                     443,654,45,675,9643345])\n",
    "    for _ in range(40):\n",
    "        print rng1.rand()\n",
    "        print rng2.rand()\n",
    "    \n",
    "    "
   ]
  },
  {
   "cell_type": "markdown",
   "metadata": {},
   "source": [
    "Inheritence\n"
   ]
  }
 ],
 "metadata": {
  "kernelspec": {
   "display_name": "Python 2",
   "language": "python",
   "name": "python2"
  },
  "language_info": {
   "codemirror_mode": {
    "name": "ipython",
    "version": 2
   },
   "file_extension": ".py",
   "mimetype": "text/x-python",
   "name": "python",
   "nbconvert_exporter": "python",
   "pygments_lexer": "ipython2",
   "version": "2.7.9"
  }
 },
 "nbformat": 4,
 "nbformat_minor": 0
}
